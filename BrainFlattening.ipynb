{
 "cells": [
  {
   "cell_type": "code",
   "execution_count": 1,
   "id": "6aada7fd-2ec7-43dd-a15c-c38e8e72f293",
   "metadata": {},
   "outputs": [],
   "source": [
    "#!pip install openpyxl\n",
    "import numpy as np\n",
    "import pandas as pd"
   ]
  },
  {
   "cell_type": "code",
   "execution_count": 2,
   "id": "de4ff858-716b-44d5-92f6-d7017a395fa8",
   "metadata": {},
   "outputs": [],
   "source": [
    "w27_31verticesFile = \"C:\\RaghusWork\\Jan-08-24\\Week27Toward31 - vertices.xlsx\"\n",
    "w31_27verticesFile = \"C:\\RaghusWork\\Jan-08-24\\Week31For27 - vertices.xlsx\"\n",
    "w27_31trianglesFile = \"C:\\RaghusWork\\Jan-08-24\\Week27Toward31_triangles.csv\""
   ]
  },
  {
   "cell_type": "code",
   "execution_count": 3,
   "id": "3a1c9ed9-44df-44c7-8a4a-dd235f15dbef",
   "metadata": {},
   "outputs": [],
   "source": [
    "w27_31vertices = pd.read_excel(w27_31verticesFile, header=None, engine='openpyxl') #.replace('/','\\\\') \n",
    "w31_27vertices = pd.read_excel(w31_27verticesFile, header=None, engine='openpyxl')\n",
    "w27_31triangles = pd.read_csv(w27_31trianglesFile, sep=',', header=None)"
   ]
  },
  {
   "cell_type": "code",
   "execution_count": 7,
   "id": "9affd7e2-57fc-4d49-9276-f3965b508cd6",
   "metadata": {},
   "outputs": [
    {
     "name": "stdout",
     "output_type": "stream",
     "text": [
      "10242 10242 2448\n",
      "(10242, 3) (10242, 3) (2448, 3)\n"
     ]
    }
   ],
   "source": [
    "print(len(w27_31vertices.index),len(w31_27vertices.index),len(w27_31triangles.index))\n",
    "print(w27_31vertices.shape, w31_27vertices.shape, w27_31triangles.shape)\n",
    "#w27_31vertices.head(), w31_27vertices.head(), w27_31triangles.head()"
   ]
  },
  {
   "cell_type": "code",
   "execution_count": 10,
   "id": "5e3b50ac-2fa0-4f02-873e-e464d81538d5",
   "metadata": {},
   "outputs": [],
   "source": [
    "#compute growth vectors\n",
    "growthVector = w31_27vertices - w27_31vertices\n",
    "#len(w27_31vertices.index)\n",
    "#w27_31vertices.head(), w31_27vertices.head(), growthVector.head()"
   ]
  },
  {
   "cell_type": "code",
   "execution_count": 17,
   "id": "c639b82b-c4f1-49aa-9489-a993e9a09a5d",
   "metadata": {},
   "outputs": [
    {
     "name": "stdout",
     "output_type": "stream",
     "text": [
      "7625 7574 7589\n",
      "[-1.20489407 -7.00229549 26.56610298] [-1.15847349  0.35071763 26.2598362 ] [-1.3211534   1.08094466 26.83415222] [4.44659755 0.02316337 1.23008508] 21.28587563001819\n",
      "5405 361 5390\n",
      "[-28.03792763  -8.73671818  -1.49171972] [-27.97730255  -8.89196396   0.67034614] [-27.82284737  -7.84055805  -0.19920878] [-2.13821409  0.38665912  0.08772008] 4.729159564997622\n",
      "1899 7392 7372\n",
      "[-1.16453958 16.94563675 17.23245621] [-0.92615926 16.51556969 16.21819687] [-1.28907728 11.53064728 22.11014557] [-7.58993717 -1.03643158 -1.34438645] 60.48871165559712\n"
     ]
    }
   ],
   "source": [
    "outDf = pd.DataFrame(columns=('a1', 'a2', 'a3', 'b1', 'b2', 'b3', 'c1', 'c2', 'c3'))\n",
    "for index, edges in w27_31triangles.iterrows():\n",
    "    if (index>2):\n",
    "        break\n",
    "    vertex0 = w27_31vertices.iloc[edges[0]].to_numpy()\n",
    "    vertex1 = w27_31vertices.iloc[edges[1]].to_numpy()\n",
    "    vertex2 = w27_31vertices.iloc[edges[2]].to_numpy()\n",
    "    normal = np.cross(vertex1-vertex0, vertex2-vertex0)\n",
    "    G0 = growthVector.iloc[edges[0]].to_numpy()\n",
    "    G1 = growthVector.iloc[edges[1]].to_numpy()\n",
    "    G2 = growthVector.iloc[edges[2]].to_numpy()\n",
    "    n2 = np.dot(normal,normal)\n",
    "    a = \n",
    "    print(edges[0],edges[1],edges[2])  \n",
    "    print(vertex0,vertex1,vertex2,normal,n2)"
   ]
  },
  {
   "cell_type": "code",
   "execution_count": null,
   "id": "ac9ec5cc-672a-48d1-ac75-2fab37d95c30",
   "metadata": {},
   "outputs": [],
   "source": []
  }
 ],
 "metadata": {
  "kernelspec": {
   "display_name": "Python 3 (ipykernel)",
   "language": "python",
   "name": "python3"
  },
  "language_info": {
   "codemirror_mode": {
    "name": "ipython",
    "version": 3
   },
   "file_extension": ".py",
   "mimetype": "text/x-python",
   "name": "python",
   "nbconvert_exporter": "python",
   "pygments_lexer": "ipython3",
   "version": "3.9.18"
  }
 },
 "nbformat": 4,
 "nbformat_minor": 5
}
