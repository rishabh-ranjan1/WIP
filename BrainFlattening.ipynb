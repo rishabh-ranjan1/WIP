{
 "cells": [
  {
   "cell_type": "code",
   "execution_count": 1,
   "id": "6aada7fd-2ec7-43dd-a15c-c38e8e72f293",
   "metadata": {},
   "outputs": [],
   "source": [
    "import numpy as np\n",
    "import pandas as pd"
   ]
  },
  {
   "cell_type": "code",
   "execution_count": null,
   "id": "9de03039-f9bd-4294-a239-8e442ecb4e0f",
   "metadata": {},
   "outputs": [],
   "source": [
    "!pip install openpyxl"
   ]
  },
  {
   "cell_type": "code",
   "execution_count": 2,
   "id": "de4ff858-716b-44d5-92f6-d7017a395fa8",
   "metadata": {},
   "outputs": [],
   "source": [
    "verticesFile = \"C:\\\\RaghusWork\\\\Jan-2024\\\\Week27Toward31-vertices.csv\"\n",
    "growthVectorsFile = \"C:\\\\RaghusWork\\\\Jan-2024\\\\Week27Toward31-growth vectors.xlsx\"\n",
    "trianglesFile = \"C:\\\\RaghusWork\\\\Jan-2024\\\\Week27Toward31_triangles.csv\""
   ]
  },
  {
   "cell_type": "code",
   "execution_count": 11,
   "id": "1845f1e6-68bf-4cce-bf23-b7b2ac0374f4",
   "metadata": {},
   "outputs": [
    {
     "name": "stdout",
     "output_type": "stream",
     "text": [
      "2448 2448 10242\n",
      "(2448, 3) (2448, 3) (10242, 3)\n"
     ]
    }
   ],
   "source": [
    "triangles = pd.read_csv(trianglesFile, sep=',', header=None)\n",
    "vertices = pd.read_csv(verticesFile, sep=',', header=None)\n",
    "growthVectors = pd.read_excel(growthVectorsFile, header=None, engine='openpyxl')\n",
    "print(len(triangles.index),len(vertices.index),len(growthVectors.index))\n",
    "print(triangles.shape, vertices.shape, growthVectors.shape)\n",
    "#triangles.head(), vertices.head(), growthVectors.head()"
   ]
  },
  {
   "cell_type": "code",
   "execution_count": null,
   "id": "2e4647ca-2743-4f19-ae97-778a21128ddf",
   "metadata": {},
   "outputs": [],
   "source": [
    "#Compute unit normal to triangles\n"
   ]
  },
  {
   "cell_type": "code",
   "execution_count": 10,
   "id": "c639b82b-c4f1-49aa-9489-a993e9a09a5d",
   "metadata": {},
   "outputs": [
    {
     "name": "stdout",
     "output_type": "stream",
     "text": [
      "(2448, 3)\n"
     ]
    }
   ],
   "source": [
    "outDf = pd.DataFrame(columns=('a1', 'a2', 'a3', 'b1', 'b2', 'b3', 'c1', 'c2', 'c3'))\n"
   ]
  },
  {
   "cell_type": "code",
   "execution_count": null,
   "id": "ac9ec5cc-672a-48d1-ac75-2fab37d95c30",
   "metadata": {},
   "outputs": [],
   "source": []
  }
 ],
 "metadata": {
  "kernelspec": {
   "display_name": "Python 3 (ipykernel)",
   "language": "python",
   "name": "python3"
  },
  "language_info": {
   "codemirror_mode": {
    "name": "ipython",
    "version": 3
   },
   "file_extension": ".py",
   "mimetype": "text/x-python",
   "name": "python",
   "nbconvert_exporter": "python",
   "pygments_lexer": "ipython3",
   "version": "3.9.18"
  }
 },
 "nbformat": 4,
 "nbformat_minor": 5
}
