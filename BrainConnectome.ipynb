{
 "cells": [
  {
   "cell_type": "raw",
   "id": "c2f0e2e7-a5f0-4dd4-9f72-4c63a2221ed3",
   "metadata": {},
   "source": [
    "#This project is part of work related to the Connectome project.\n",
    "#The goal is to flatten out a given set of 3D points on a surface.\n",
    "#We need to extend Delaunay triangulation (defined for 2D points) for 3D points.\n",
    "#Caviat: No one way of triangulating a given set of points (different triangulations may produce different surfaces)\n",
    "#Approach: make each triangle in a way that its vertices are as close to one another as possible\n",
    "#Triangles must all be glued up together side-by-side, without any one of them containing another.\n",
    "##Another approach without needing parameterization: ConvexHull"
   ]
  },
  {
   "cell_type": "code",
   "execution_count": null,
   "id": "9fe8c7f2-d8e6-4f2f-9be7-719f0336b93d",
   "metadata": {},
   "outputs": [],
   "source": [
    "#Connectiome: Computing growth vectors\n",
    "#https://balsa.wustl.edu/about/fileTypes"
   ]
  },
  {
   "cell_type": "code",
   "execution_count": 1,
   "id": "e4398abd-2726-4e99-904e-7793c93e8950",
   "metadata": {
    "scrolled": true
   },
   "outputs": [],
   "source": [
    "#!pip install nibabel #https://github.com/nipy/nibabel\n",
    "import numpy as np\n",
    "import nibabel as nb\n",
    "import os\n",
    "import matplotlib.pyplot as plt\n",
    "from mpl_toolkits.mplot3d import axes3d"
   ]
  },
  {
   "cell_type": "code",
   "execution_count": 2,
   "id": "7a2c7291-e996-4342-940c-6eee058d39fb",
   "metadata": {},
   "outputs": [],
   "source": [
    "#Data \n",
    "#noninjured.L.ab\n",
    "baseFolder  = 'C:\\\\RaghusWork\\\\Data\\\\GarciaPNAS2018_example\\\\noninjured.L.ab'\n",
    "youngerFile = 'YAS.LLR.surf.gii'\n",
    "olderRegFile = 'configincaltrelaxforward.anat.LLR.reg.surf.gii'"
   ]
  },
  {
   "cell_type": "code",
   "execution_count": 3,
   "id": "2ffc0b54-b9af-4979-bac7-b035bf342b39",
   "metadata": {},
   "outputs": [],
   "source": [
    "img = nb.load(os.path.join(baseFolder, youngerFile))\n",
    "younger_coords = img.agg_data('NIFTI_INTENT_POINTSET')\n",
    "younger_triangles = img.agg_data('NIFTI_INTENT_TRIANGLE')\n",
    "img = nb.load(os.path.join(baseFolder, olderRegFile))\n",
    "olderReg_coords = img.agg_data('NIFTI_INTENT_POINTSET')\n",
    "olderReg_triangles = img.agg_data('NIFTI_INTENT_TRIANGLE')"
   ]
  },
  {
   "cell_type": "code",
   "execution_count": 4,
   "id": "27fddeb7-7980-40ef-8512-abd2d6095fce",
   "metadata": {},
   "outputs": [
    {
     "name": "stdout",
     "output_type": "stream",
     "text": [
      "True\n",
      "False\n"
     ]
    }
   ],
   "source": [
    "print(np.array_equal(younger_triangles, olderReg_triangles))\n",
    "print(np.array_equal(younger_coords,olderReg_coords))"
   ]
  },
  {
   "cell_type": "code",
   "execution_count": 5,
   "id": "75b1ec28-ef14-45c9-af16-45e4d37a449e",
   "metadata": {},
   "outputs": [],
   "source": [
    "#compute growth vectors\n",
    "growthVector = olderReg_coords - younger_coords"
   ]
  },
  {
   "cell_type": "code",
   "execution_count": null,
   "id": "58c9a2b5-41da-4e4a-8371-145b2c095e94",
   "metadata": {},
   "outputs": [],
   "source": [
    "fig = plt.figure()\n",
    "ax = plt.axes(projection=\"3d\")\n",
    "stride = 50\n",
    "x = younger_coords[::stride,0]\n",
    "y = younger_coords[::stride,1]\n",
    "z = younger_coords[::stride,2]\n",
    "u = growthVector[::stride,0]\n",
    "v = growthVector[::stride,1]\n",
    "w = growthVector[::stride,2]\n",
    "ax.quiver(x, y, z, u, v, w, length=2., arrow_length_ratio = 2, zorder=3, color='black', normalize= True) #, width=0.007, headwidth=3., headlength=4.) \n",
    "plt.show()"
   ]
  },
  {
   "cell_type": "code",
   "execution_count": 11,
   "id": "aa357327-e5a0-4f01-9525-ef29ce1c3a2e",
   "metadata": {},
   "outputs": [
    {
     "name": "stdout",
     "output_type": "stream",
     "text": [
      "[2564 2562 2563]\n",
      "[2563  644 2564]\n",
      "[2562  643 2563]\n"
     ]
    }
   ],
   "source": [
    "younger_triangles.shape\n",
    "for index, edges in enumerate(younger_triangles): #.iterrows():\n",
    "    if (index>2):\n",
    "        break\n",
    "    print(edges)"
   ]
  },
  {
   "cell_type": "code",
   "execution_count": 15,
   "id": "61ce0bef-e157-4722-8138-7fdc6eb9883b",
   "metadata": {},
   "outputs": [],
   "source": [
    "import pandas as pd\n",
    "younger_coords = pd.DataFrame(younger_coords)\n",
    "younger_triangles = pd.DataFrame( younger_triangles)\n",
    "growthVector = pd.DataFrame( growthVector)"
   ]
  },
  {
   "cell_type": "code",
   "execution_count": null,
   "id": "0f181513-1d0e-4146-9661-387d5bed1232",
   "metadata": {},
   "outputs": [],
   "source": [
    "#NEW COMPUTATION\n",
    "a0 = []; a1 = []; a2 = [];\n",
    "b0 = []; b1 = []; b2 = [];\n",
    "c0 = []; c1 = []; c2 = [];\n",
    "for index, edges in younger_triangles.iterrows():\n",
    "    #if (index>2):\n",
    "    #    break\n",
    "    vertex0 = younger_coords.iloc[edges[0]].to_numpy()\n",
    "    vertex1 = younger_coords.iloc[edges[1]].to_numpy()\n",
    "    vertex2 = younger_coords.iloc[edges[2]].to_numpy()\n",
    "    normal = np.cross(vertex1-vertex0, vertex2-vertex0)\n",
    "    G0 = growthVector.iloc[edges[0]].to_numpy()\n",
    "    G1 = growthVector.iloc[edges[1]].to_numpy()\n",
    "    G2 = growthVector.iloc[edges[2]].to_numpy()\n",
    "    n2 = np.dot(normal,normal)\n",
    "    a = np.cross((G1[0]-G0[0])*normal,(vertex0-vertex2)) + np.cross((G2[0]-G0[0])*normal,(vertex1-vertex0))\n",
    "    a = a/n2\n",
    "    a0.append(a[0]); a1.append(a[1]); a2.append(a[2]);\n",
    "    b = np.cross((G1[1]-G0[1])*normal,(vertex0-vertex2)) + np.cross((G2[1]-G0[1])*normal,(vertex1-vertex0))\n",
    "    b = b/n2\n",
    "    b0.append(b[0]); b1.append(b[1]); b2.append(b[2]);\n",
    "    c = np.cross((G1[2]-G0[2])*normal,(vertex0-vertex2)) + np.cross((G2[2]-G0[2])*normal,(vertex1-vertex0))\n",
    "    c = c/n2\n",
    "    c0.append(c[0]); c1.append(c[1]); c2.append(c[2]);\n",
    "    #print(edges[0],edges[1],edges[2])  \n",
    "    #print(vertex0,vertex1,vertex2,normal,n2)\n",
    "    #print(a,b,c)\n",
    "outDf = pd.DataFrame({'a0': a0, 'a1': a1, 'a2': a2, 'b0': b0, 'b1': b1, 'b2': b2, 'c0': c0, 'c1': c1, 'c2': c2})\n",
    "outDf.to_excel(\"co-efficients.xlsx\") #, startrow=1)\n",
    "outDf.head()"
   ]
  },
  {
   "cell_type": "code",
   "execution_count": null,
   "id": "c639b82b-c4f1-49aa-9489-a993e9a09a5d",
   "metadata": {},
   "outputs": [],
   "source": [
    "a0 = []; a1 = []; a2 = [];\n",
    "b0 = []; b1 = []; b2 = [];\n",
    "c0 = []; c1 = []; c2 = [];\n",
    "for index, edges in younger_triangles.iterrows():\n",
    "    #if (index>2):\n",
    "    #    break\n",
    "    vertex0 = younger_coords.iloc[edges[0]].to_numpy()\n",
    "    vertex1 = younger_coords.iloc[edges[1]].to_numpy()\n",
    "    vertex2 = younger_coords.iloc[edges[2]].to_numpy()\n",
    "    normal = np.cross(vertex1-vertex0, vertex2-vertex0)\n",
    "    G0 = growthVector.iloc[edges[0]].to_numpy()\n",
    "    G1 = growthVector.iloc[edges[1]].to_numpy()\n",
    "    G2 = growthVector.iloc[edges[2]].to_numpy()\n",
    "    n2 = np.dot(normal,normal)\n",
    "    a = np.cross((G1[0]-G0[0])*normal,(vertex0-vertex2)) + np.cross((G2[0]-G0[0])*normal,(vertex1-vertex0))\n",
    "    a = a/n2\n",
    "    a0.append(a[0]); a1.append(a[1]); a2.append(a[2]);\n",
    "    b = np.cross((G1[1]-G0[1])*normal,(vertex0-vertex2)) + np.cross((G2[1]-G0[1])*normal,(vertex1-vertex0))\n",
    "    b = b/n2\n",
    "    b0.append(b[0]); b1.append(b[1]); b2.append(b[2]);\n",
    "    c = np.cross((G1[2]-G0[2])*normal,(vertex0-vertex2)) + np.cross((G2[2]-G0[2])*normal,(vertex1-vertex0))\n",
    "    c = c/n2\n",
    "    c0.append(c[0]); c1.append(c[1]); c2.append(c[2]);\n",
    "    #print(edges[0],edges[1],edges[2])  \n",
    "    #print(vertex0,vertex1,vertex2,normal,n2)\n",
    "    #print(a,b,c)\n",
    "outDf = pd.DataFrame({'a0': a0, 'a1': a1, 'a2': a2, 'b0': b0, 'b1': b1, 'b2': b2, 'c0': c0, 'c1': c1, 'c2': c2})\n",
    "outDf.to_excel(\"co-efficients.xlsx\") #, startrow=1)\n",
    "outDf.head()"
   ]
  },
  {
   "cell_type": "code",
   "execution_count": null,
   "id": "ed3af1ce-0e5f-4175-97db-51aa34eedc12",
   "metadata": {},
   "outputs": [],
   "source": [
    "# ----------------------------------------------------------------------------\n",
    "# Plot the triangulation, the potential iso-contours and the vector field\n",
    "# ----------------------------------------------------------------------------\n",
    "fig, ax = plt.subplots()\n",
    "ax.set_aspect('equal')\n",
    "# Enforce the margins, and enlarge them to give room for the vectors.\n",
    "ax.use_sticky_edges = False\n",
    "ax.margins(0.07)\n",
    "\n",
    "ax.triplot(triang, color='0.8')\n",
    "\n",
    "levels = np.arange(0., 1., 0.01)\n",
    "ax.tricontour(tri_refi, z_test_refi, levels=levels, cmap='hot',\n",
    "              linewidths=[2.0, 1.0, 1.0, 1.0])\n",
    "# Plots direction of the electrical vector field\n",
    "ax.quiver(triang.x, triang.y, Ex/E_norm, Ey/E_norm,\n",
    "          units='xy', scale=10., zorder=3, color='blue',\n",
    "          width=0.007, headwidth=3., headlength=4.)\n",
    "\n",
    "ax.set_title('Gradient plot: an electrical dipole')\n",
    "plt.show()"
   ]
  },
  {
   "cell_type": "code",
   "execution_count": null,
   "id": "6dbc83bc-1d46-459a-80c4-f72a153cea1d",
   "metadata": {},
   "outputs": [],
   "source": [
    "#https://vtkusers.public.kitware.narkive.com/J6TNTBbW/delaunay-surface-triangulation-in-3d\n",
    "#vtkDelaunay2D: ignoring the Z-coordinate during its triangulation) \n",
    "#vtkDelaunay3D: a tetrahedral mesh\n",
    "#vtkGeometryFilter will extract surface cells from a volumetric mesh.\n",
    "'''\n",
    "vtkDelaunay3D* delny = vtkDelaunay3D::New();\n",
    "delny->SetInput(pPolyData);\n",
    "delny->SetTolerance(0.001);\n",
    "delny->Update();\n",
    "vtkGeometryFilter* geom = vtkGeometryFilter::New();\n",
    "geom->SetInput( delny->GetOutput() );\n",
    "geom->Update();\n",
    "'''"
   ]
  },
  {
   "cell_type": "code",
   "execution_count": null,
   "id": "6aada7fd-2ec7-43dd-a15c-c38e8e72f293",
   "metadata": {},
   "outputs": [],
   "source": [
    "#!pip install openpyxl\n",
    "import numpy as np\n",
    "import pandas as pd\n",
    "from scipy.spatial import Delaunay\n",
    "import matplotlib.pyplot as plt\n",
    "from matplotlib import cm\n",
    "from mpl_toolkits.mplot3d import Axes3D\n",
    "#ax = plt.axes(projection=\"3d\")"
   ]
  },
  {
   "cell_type": "code",
   "execution_count": null,
   "id": "c3e0f0cd-a5f4-4263-a994-b4ae523427f7",
   "metadata": {},
   "outputs": [],
   "source": [
    "def triangulateFunctionGraph(ax, XYZ, cmap=cm.magma):\n",
    "    tri = Delaunay(XYZ[:,:2]) # triangulate projections\n",
    "    ax.plot_trisurf(\n",
    "        XYZ[:,0], XYZ[:,1], XYZ[:,2], triangles=tri.simplices, cmap=cmap)\n",
    "    \n",
    "def readFace(file):\n",
    "    with open(file, 'r') as vertices:\n",
    "        return np.array([\n",
    "            [float(v) for v in line.split()] for line in vertices])"
   ]
  },
  {
   "cell_type": "code",
   "execution_count": null,
   "id": "7dcea18a-6581-410f-9a04-bd258a1a063f",
   "metadata": {},
   "outputs": [],
   "source": [
    "xyz = readFace('face.vert')\n",
    "xyz.shape; xyz[1:5,:]\n",
    "ax = plt.axes(projection=\"3d\")\n",
    "triangulateFunctionGraph(ax, xyz)\n",
    "plt.show()"
   ]
  },
  {
   "cell_type": "code",
   "execution_count": null,
   "id": "78898651-bbcf-42bb-b9a7-7ff3491092a5",
   "metadata": {},
   "outputs": [],
   "source": [
    "# take n x 3 array of points of the form (x, y, f(x,y))\n",
    "def generatePointsOnSphere(k):\n",
    "#Parameterization: (cos(u) sin(v), sin(u) sin(v), cos(v)) \n",
    "#where u goes from 0 to 2π and v goes from 0 to π.\n",
    "    # domain parametrization\n",
    "    U = np.linspace(0, 2 * np.pi, k)\n",
    "    V = np.linspace(0, np.pi, k)\n",
    "    [X, Y] = np.meshgrid(U, V)\n",
    "\n",
    "    # sphere parametrization\n",
    "    S1 = np.cos(X) * np.sin(Y)\n",
    "    S2 = np.sin(X) * np.sin(Y)\n",
    "    S3 = np.cos(Y)\n",
    "    \n",
    "    # triangulate the points in [0,2pi] x [0,pi]\n",
    "    tri = Delaunay(np.array([X.flatten(), Y.flatten()]).T)\n",
    "    #return S1, S2, S3 \n",
    "    return np.column_stack((S1.flatten(), S2.flatten(), S3.flatten()))\n",
    "\n",
    "def generatePointsOnEllipsoid(A, k):\n",
    "    # domain parametrization\n",
    "    U = np.linspace(0, 2 * np.pi, k)\n",
    "    V = np.linspace(0, np.pi, k)\n",
    "    [X, Y] = np.meshgrid(U, V)\n",
    "\n",
    "    # sphere parametrization\n",
    "    S1 = np.cos(X) * np.sin(Y)\n",
    "    S2 = np.sin(X) * np.sin(Y)\n",
    "    S3 = np.cos(Y)\n",
    "\n",
    "    # map sphere to elipsoid\n",
    "    E1 = np.zeros((k,k))\n",
    "    E2 = np.zeros((k,k))\n",
    "    E3 = np.zeros((k,k))\n",
    "    for i in range(k):\n",
    "        for j in range(k):\n",
    "            xyz = np.array([S1[i,j], S2[i,j], S3[i,j]])\n",
    "            [E1[i,j], E2[i,j], E3[i,j]] = A @ xyz\n",
    "            \n",
    "    return np.column_stack((E1.flatten(), E2.flatten(), E3.flatten()))\n",
    "\n",
    "def generatePointsOnTorus(k=200, a=2, b=9):\n",
    "    # domain parametrization\n",
    "    U = np.linspace(0, 2 * np.pi, k)\n",
    "    V = np.linspace(0, 2 * np.pi, k)\n",
    "    [X, Y] = np.meshgrid(U, V)\n",
    "\n",
    "    # Torus parametrization\n",
    "    T1 = (b + a*np.cos(U)) * np.cos(V)\n",
    "    T2 = (b + a*np.cos(U)) * np.sin(V)\n",
    "    T3 = a * np.sin(U)\n",
    "\n",
    "    ''' torus = lambda a, b: (\n",
    "    lambda x, y: (a * cos(y) + b) * cos(x),\n",
    "    lambda x, y: (a * cos(y) + b) * sin(x),\n",
    "    lambda x, y: a * sin(y)\n",
    "    )'''\n",
    "    return np.column_stack((T1.flatten(), T2.flatten(), T3.flatten()))"
   ]
  },
  {
   "cell_type": "code",
   "execution_count": null,
   "id": "bdd365cb-010e-4be9-b86d-2bdb28527ca5",
   "metadata": {},
   "outputs": [],
   "source": [
    "def generatePointsOnBagel(k=200, a=2, b=9):\n",
    "    # domain parametrization\n",
    "    U = np.linspace(0, 2 * np.pi, k)\n",
    "    V = np.linspace(0, 2 * np.pi, k)\n",
    "    [X, Y] = np.meshgrid(U, V)\n",
    "\n",
    "    # Torus parametrization\n",
    "    T1 = (b + a*np.cos(U)) * np.cos(V)\n",
    "    T2 = (b + a*np.cos(U)) * np.sin(V)\n",
    "    T3 = a * np.sin(U)\n",
    "\n",
    "    ''' kleinBagel = lambda r: (\n",
    "    lambda x, y: (r + cos(x/2) * sin(y) - sin(x/2) * sin(2*y)) * cos(x),\n",
    "    lambda x, y: (r + cos(x/2) * sin(y) - sin(x/2) * sin(2*y)) * sin(x),\n",
    "    lambda x, y: sin(x/2) * sin(y) + cos(x/2) * sin(2*y)\n",
    "    )'''\n",
    "    return np.column_stack((T1.flatten(), T2.flatten(), T3.flatten()))"
   ]
  },
  {
   "cell_type": "code",
   "execution_count": null,
   "id": "178c2ca6-8ae9-44ba-8a54-7fd022c8248c",
   "metadata": {},
   "outputs": [],
   "source": [
    "k = 200\n",
    "xyz = generatePointsOnTorus(k, 2, 9)\n",
    "#len(torus)\n",
    "ax = plt.axes(projection=\"3d\")\n",
    "triangulateFunctionGraph(ax, xyz)\n",
    "plt.show()"
   ]
  },
  {
   "cell_type": "code",
   "execution_count": null,
   "id": "1ca357c5-b6a4-48d6-b2fa-524fc7316631",
   "metadata": {},
   "outputs": [],
   "source": []
  },
  {
   "cell_type": "code",
   "execution_count": null,
   "id": "780ab235-ece9-4620-a93e-0e3c3fcef195",
   "metadata": {},
   "outputs": [],
   "source": [
    "k = 50\n",
    "#xyz = generatePointsOnSphere(k)\n",
    "\n",
    "A = np.array([\n",
    "    [-0.01289453, -0.02087514,  0.04109751],\n",
    "    [-0.00261222, -0.01984956, -0.15409974],\n",
    "    [-0.00431062,  0.07447336, -0.0295528 ]\n",
    "])\n",
    "xyz = generatePointsOnEllipsoid(A, k)\n",
    "ax = plt.axes(projection=\"3d\")\n",
    "triangulateFunctionGraph(ax, xyz)\n",
    "plt.show()"
   ]
  },
  {
   "cell_type": "code",
   "execution_count": null,
   "id": "18c70573-42f7-4580-8511-24e0268d96d4",
   "metadata": {},
   "outputs": [],
   "source": [
    "#Triangulating two other surfaces\n",
    "# (x, y) in [0,2pi] x [0,2pi]\n",
    "torus = lambda a, b: (\n",
    "    lambda x, y: (a * cos(y) + b) * cos(x),\n",
    "    lambda x, y: (a * cos(y) + b) * sin(x),\n",
    "    lambda x, y: a * sin(y)\n",
    ")\n",
    "# (x, y) in [0,2pi] x [0,2pi]\n",
    "kleinBagel = lambda r: (\n",
    "    lambda x, y: (r + cos(x/2) * sin(y) - sin(x/2) * sin(2*y)) * cos(x),\n",
    "    lambda x, y: (r + cos(x/2) * sin(y) - sin(x/2) * sin(2*y)) * sin(x),\n",
    "    lambda x, y: sin(x/2) * sin(y) + cos(x/2) * sin(2*y)\n",
    ")"
   ]
  },
  {
   "cell_type": "code",
   "execution_count": null,
   "id": "3a1c9ed9-44df-44c7-8a4a-dd235f15dbef",
   "metadata": {},
   "outputs": [],
   "source": [
    "w27_31vertices = pd.read_excel(w27_31verticesFile, header=None, engine='openpyxl') #.replace('/','\\\\') \n",
    "w31_27vertices = pd.read_excel(w31_27verticesFile, header=None, engine='openpyxl')\n",
    "w27_31triangles = pd.read_csv(w27_31trianglesFile, sep=',', header=None)"
   ]
  },
  {
   "cell_type": "code",
   "execution_count": null,
   "id": "9affd7e2-57fc-4d49-9276-f3965b508cd6",
   "metadata": {},
   "outputs": [],
   "source": [
    "print(len(w27_31vertices.index),len(w31_27vertices.index),len(w27_31triangles.index))\n",
    "print(w27_31vertices.shape, w31_27vertices.shape, w27_31triangles.shape)\n",
    "#w27_31vertices.head(), w31_27vertices.head(), w27_31triangles.head()"
   ]
  },
  {
   "cell_type": "code",
   "execution_count": null,
   "id": "5e3b50ac-2fa0-4f02-873e-e464d81538d5",
   "metadata": {},
   "outputs": [],
   "source": [
    "#compute growth vectors\n",
    "growthVector = w31_27vertices - w27_31vertices\n",
    "#len(w27_31vertices.index)\n",
    "#w27_31vertices.head(), w31_27vertices.head(), growthVector.head()"
   ]
  },
  {
   "cell_type": "code",
   "execution_count": null,
   "id": "ac9ec5cc-672a-48d1-ac75-2fab37d95c30",
   "metadata": {},
   "outputs": [],
   "source": [
    "import numpy as np\n",
    "from scipy.spatial import Delaunay\n",
    "import matplotlib.pyplot as plt\n",
    "from matplotlib import cm\n",
    "from mpl_toolkits.mplot3d import Axes3D\n",
    "\n",
    "ax = plt.figure().gca(projection='3d')"
   ]
  }
 ],
 "metadata": {
  "kernelspec": {
   "display_name": "Python 3 (ipykernel)",
   "language": "python",
   "name": "python3"
  },
  "language_info": {
   "codemirror_mode": {
    "name": "ipython",
    "version": 3
   },
   "file_extension": ".py",
   "mimetype": "text/x-python",
   "name": "python",
   "nbconvert_exporter": "python",
   "pygments_lexer": "ipython3",
   "version": "3.8.18"
  }
 },
 "nbformat": 4,
 "nbformat_minor": 5
}
