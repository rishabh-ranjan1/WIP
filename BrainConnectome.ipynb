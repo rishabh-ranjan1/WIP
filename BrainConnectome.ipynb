{
 "cells": [
  {
   "cell_type": "raw",
   "id": "c2f0e2e7-a5f0-4dd4-9f72-4c63a2221ed3",
   "metadata": {},
   "source": [
    "#This project is part of work related to the Connectome project.\n",
    "#The goal is to flatten out a given set of 3D points on a surface.\n",
    "#We need to extend Delaunay triangulation (defined for 2D points) for 3D points.\n",
    "#Caviat: No one way of triangulating a given set of points (different triangulations may produce different surfaces)\n",
    "#Approach: make each triangle in a way that its vertices are as close to one another as possible\n",
    "#Triangles must all be glued up together side-by-side, without any one of them containing another.\n",
    "##Another approach without needing parameterization: ConvexHull"
   ]
  },
  {
   "cell_type": "code",
   "execution_count": null,
   "id": "9fe8c7f2-d8e6-4f2f-9be7-719f0336b93d",
   "metadata": {},
   "outputs": [],
   "source": [
    "#Connectiome: Computing growth vectors\n",
    "#https://balsa.wustl.edu/about/fileTypes"
   ]
  },
  {
   "cell_type": "code",
   "execution_count": null,
   "id": "eb2c6a44-6b1c-4b54-87e1-51cfccc0b124",
   "metadata": {},
   "outputs": [],
   "source": [
    "#!pip install openpyxl"
   ]
  },
  {
   "cell_type": "code",
   "execution_count": 1,
   "id": "e4398abd-2726-4e99-904e-7793c93e8950",
   "metadata": {
    "scrolled": true
   },
   "outputs": [],
   "source": [
    "#!pip install nibabel #https://github.com/nipy/nibabel\n",
    "import numpy as np\n",
    "import pandas as pd\n",
    "import nibabel as nb\n",
    "import os\n",
    "import matplotlib.pyplot as plt\n",
    "from mpl_toolkits.mplot3d import axes3d"
   ]
  },
  {
   "cell_type": "code",
   "execution_count": null,
   "id": "7a2c7291-e996-4342-940c-6eee058d39fb",
   "metadata": {},
   "outputs": [],
   "source": [
    "#Data \n",
    "#noninjured.L.ab\n",
    "baseFolder  = 'C:\\\\RaghusWork\\\\Data\\\\GarciaPNAS2018_example\\\\noninjured.L.ab'\n",
    "youngerFile = 'YAS.LLR.surf.gii'\n",
    "olderRegFile = 'configincaltrelaxforward.anat.LLR.reg.surf.gii'"
   ]
  },
  {
   "cell_type": "code",
   "execution_count": null,
   "id": "2ffc0b54-b9af-4979-bac7-b035bf342b39",
   "metadata": {},
   "outputs": [],
   "source": [
    "img = nb.load(os.path.join(baseFolder, youngerFile))\n",
    "younger_coords = img.agg_data('NIFTI_INTENT_POINTSET')\n",
    "younger_triangles = img.agg_data('NIFTI_INTENT_TRIANGLE')\n",
    "img = nb.load(os.path.join(baseFolder, olderRegFile))\n",
    "olderReg_coords = img.agg_data('NIFTI_INTENT_POINTSET')\n",
    "olderReg_triangles = img.agg_data('NIFTI_INTENT_TRIANGLE')"
   ]
  },
  {
   "cell_type": "code",
   "execution_count": null,
   "id": "27fddeb7-7980-40ef-8512-abd2d6095fce",
   "metadata": {},
   "outputs": [],
   "source": [
    "print(np.array_equal(younger_triangles, olderReg_triangles))\n",
    "print(np.array_equal(younger_coords,olderReg_coords))"
   ]
  },
  {
   "cell_type": "code",
   "execution_count": null,
   "id": "75b1ec28-ef14-45c9-af16-45e4d37a449e",
   "metadata": {},
   "outputs": [],
   "source": [
    "#compute growth vectors\n",
    "growthVector = olderReg_coords - younger_coords"
   ]
  },
  {
   "cell_type": "code",
   "execution_count": null,
   "id": "61ce0bef-e157-4722-8138-7fdc6eb9883b",
   "metadata": {},
   "outputs": [],
   "source": [
    "younger_coords = pd.DataFrame(younger_coords)\n",
    "olderReg_coords = pd.DataFrame(olderReg_coords)\n",
    "younger_triangles = pd.DataFrame( younger_triangles)\n",
    "growthVector = pd.DataFrame( growthVector)"
   ]
  },
  {
   "cell_type": "code",
   "execution_count": null,
   "id": "0f181513-1d0e-4146-9661-387d5bed1232",
   "metadata": {},
   "outputs": [],
   "source": [
    "#NEW COMPUTATION\n",
    "a0 = []; a1 = []; a2 = [];\n",
    "b0 = []; b1 = []; b2 = [];\n",
    "c0 = []; c1 = []; c2 = [];\n",
    "for index, edges in younger_triangles.iterrows():\n",
    "    #if (index>2):\n",
    "    #    break\n",
    "    vertex0 = younger_coords.iloc[edges[0]].to_numpy()\n",
    "    vertex1 = younger_coords.iloc[edges[1]].to_numpy()\n",
    "    vertex2 = younger_coords.iloc[edges[2]].to_numpy()\n",
    "    normal = np.cross(vertex1-vertex0, vertex2-vertex0)\n",
    "    G0 = growthVector.iloc[edges[0]].to_numpy()\n",
    "    G1 = growthVector.iloc[edges[1]].to_numpy()\n",
    "    G2 = growthVector.iloc[edges[2]].to_numpy()\n",
    "    n2 = np.dot(normal,normal)\n",
    "    a = np.cross((G1[0]-G0[0])*normal,(vertex0-vertex2)) + np.cross((G2[0]-G0[0])*normal,(vertex1-vertex0))\n",
    "    a = a/n2\n",
    "    a0.append(a[0]); a1.append(a[1]); a2.append(a[2]);\n",
    "    b = np.cross((G1[1]-G0[1])*normal,(vertex0-vertex2)) + np.cross((G2[1]-G0[1])*normal,(vertex1-vertex0))\n",
    "    b = b/n2\n",
    "    b0.append(b[0]); b1.append(b[1]); b2.append(b[2]);\n",
    "    c = np.cross((G1[2]-G0[2])*normal,(vertex0-vertex2)) + np.cross((G2[2]-G0[2])*normal,(vertex1-vertex0))\n",
    "    c = c/n2\n",
    "    c0.append(c[0]); c1.append(c[1]); c2.append(c[2]);\n",
    "    #print(edges[0],edges[1],edges[2])  \n",
    "    #print(vertex0,vertex1,vertex2,normal,n2)\n",
    "    #print(a,b,c)"
   ]
  },
  {
   "cell_type": "code",
   "execution_count": null,
   "id": "75b5501e-cdc2-41c1-9c2c-0149761fae3c",
   "metadata": {},
   "outputs": [],
   "source": [
    "with pd.ExcelWriter('noninjured_L_ab.xlsx', engine='openpyxl') as writer:\n",
    "    younger_coords.to_excel(writer, sheet_name='Week27Toward31-vertices')\n",
    "    olderReg_coords.to_excel(writer, sheet_name='Week31For27-vertices')\n",
    "    younger_triangles.to_excel(writer, sheet_name='Week27Toward31-triangles')\n",
    "    outDf = pd.DataFrame({'a0': a0, 'a1': a1, 'a2': a2, 'b0': b0, 'b1': b1, 'b2': b2, 'c0': c0, 'c1': c1, 'c2': c2})\n",
    "    outDf.to_excel(writer, sheet_name='co-efficients') "
   ]
  },
  {
   "cell_type": "code",
   "execution_count": null,
   "id": "6e9e4d2e-e9d3-4fed-983e-de10acd8d669",
   "metadata": {},
   "outputs": [],
   "source": [
    "#TEST CODE BELOW"
   ]
  },
  {
   "cell_type": "code",
   "execution_count": 2,
   "id": "c1d3abfc-3623-4aef-848e-870ae4d273db",
   "metadata": {},
   "outputs": [],
   "source": [
    "from scipy import spatial\n",
    "from collections import deque\n",
    "def makeTriangles(N=3000):\n",
    "    \"\"\"create a N random points and triangulate\"\"\"\n",
    "    points= np.random.uniform(-10, 10, (N, 3))\n",
    "    tri = spatial.Delaunay(points[:, :2])\n",
    "    return tri.simplices #points[tri.simplices]\n",
    "\n",
    "#To test if a given mesh is Orientable or Not \n",
    "def agree(reference,candidate):\n",
    "    reference = reference.tolist()\n",
    "    candidate = candidate.tolist()\n",
    "    common_vertices = [x for x in candidate if x in reference]\n",
    "    #dir_reference = np.where(reference==common_vertices[0])-np.where(reference==common_vertices[1])\n",
    "    #dir_candidate = np.where(candidate==common_vertices[0])-np.where(candidate==common_vertices[1])\n",
    "    dir_reference = reference.index(common_vertices[0])-reference.index(common_vertices[1])\n",
    "    dir_candidate = candidate.index(common_vertices[0])-candidate.index(common_vertices[1])\n",
    "    return (dir_reference!=dir_candidate)\n",
    "    \n",
    "def is_Orientable(triangles, start):\n",
    "    active = [start]\n",
    "    oriented = set([start])\n",
    "    while active:\n",
    "        #print('active:', active)\n",
    "        next_active = []\n",
    "        for tri in active:\n",
    "            _vertices = triangles[tri]\n",
    "            #neighbors = [[i, a] for i, a in enumerate(triangles) if len([x for x in a if x in _vertices])==2 and i not in oriented]\n",
    "            neighbors = [i for i, a in enumerate(triangles) if len([x for x in a if x in _vertices])==2 and i not in oriented]\n",
    "            #print('\\tneighbors:', neighbors)\n",
    "            for other in neighbors:\n",
    "                if other not in oriented:\n",
    "                    if not agree(_vertices, triangles[other]):\n",
    "                        #flip(other)\n",
    "                        print('NOT PROPERLY ORIENTED:', _vertices, triangles[other])\n",
    "                    oriented.add(other)\n",
    "                    next_active.append(other)\n",
    "            #print('\\toriented:', oriented)\n",
    "        active = next_active  \n",
    "        print(len(active))"
   ]
  },
  {
   "cell_type": "code",
   "execution_count": 3,
   "id": "756c4459-f75f-4aad-9fdf-0b3adea8ad12",
   "metadata": {},
   "outputs": [
    {
     "name": "stdout",
     "output_type": "stream",
     "text": [
      "2\n",
      "4\n",
      "4\n",
      "2\n",
      "0\n",
      "None\n"
     ]
    }
   ],
   "source": [
    "simplices = makeTriangles(10)\n",
    "#print(simplices)\n",
    "#res = is_Orientable00(simplices,0)\n",
    "res = is_Orientable(simplices,0)\n",
    "print(res)"
   ]
  },
  {
   "cell_type": "code",
   "execution_count": null,
   "id": "62055267-3cca-494a-904a-74fee9c94b20",
   "metadata": {},
   "outputs": [],
   "source": [
    "res = is_Orientable(younger_triangles,0)\n",
    "print(res)"
   ]
  },
  {
   "cell_type": "code",
   "execution_count": null,
   "id": "58c9a2b5-41da-4e4a-8371-145b2c095e94",
   "metadata": {},
   "outputs": [],
   "source": [
    "fig = plt.figure()\n",
    "ax = plt.axes(projection=\"3d\")\n",
    "stride = 50\n",
    "x = younger_coords[::stride,0]\n",
    "y = younger_coords[::stride,1]\n",
    "z = younger_coords[::stride,2]\n",
    "u = growthVector[::stride,0]\n",
    "v = growthVector[::stride,1]\n",
    "w = growthVector[::stride,2]\n",
    "ax.quiver(x, y, z, u, v, w, length=2., arrow_length_ratio = 2, zorder=3, color='black', normalize= True) #, width=0.007, headwidth=3., headlength=4.) \n",
    "plt.show()"
   ]
  },
  {
   "cell_type": "code",
   "execution_count": null,
   "id": "aa357327-e5a0-4f01-9525-ef29ce1c3a2e",
   "metadata": {},
   "outputs": [],
   "source": [
    "younger_triangles.shape\n",
    "for index, edges in enumerate(younger_triangles): #.iterrows():\n",
    "    if (index>2):\n",
    "        break\n",
    "    print(edges)"
   ]
  },
  {
   "cell_type": "code",
   "execution_count": null,
   "id": "c639b82b-c4f1-49aa-9489-a993e9a09a5d",
   "metadata": {},
   "outputs": [],
   "source": [
    "a0 = []; a1 = []; a2 = [];\n",
    "b0 = []; b1 = []; b2 = [];\n",
    "c0 = []; c1 = []; c2 = [];\n",
    "for index, edges in younger_triangles.iterrows():\n",
    "    #if (index>2):\n",
    "    #    break\n",
    "    vertex0 = younger_coords.iloc[edges[0]].to_numpy()\n",
    "    vertex1 = younger_coords.iloc[edges[1]].to_numpy()\n",
    "    vertex2 = younger_coords.iloc[edges[2]].to_numpy()\n",
    "    normal = np.cross(vertex1-vertex0, vertex2-vertex0)\n",
    "    G0 = growthVector.iloc[edges[0]].to_numpy()\n",
    "    G1 = growthVector.iloc[edges[1]].to_numpy()\n",
    "    G2 = growthVector.iloc[edges[2]].to_numpy()\n",
    "    n2 = np.dot(normal,normal)\n",
    "    a = np.cross((G1[0]-G0[0])*normal,(vertex0-vertex2)) + np.cross((G2[0]-G0[0])*normal,(vertex1-vertex0))\n",
    "    a = a/n2\n",
    "    a0.append(a[0]); a1.append(a[1]); a2.append(a[2]);\n",
    "    b = np.cross((G1[1]-G0[1])*normal,(vertex0-vertex2)) + np.cross((G2[1]-G0[1])*normal,(vertex1-vertex0))\n",
    "    b = b/n2\n",
    "    b0.append(b[0]); b1.append(b[1]); b2.append(b[2]);\n",
    "    c = np.cross((G1[2]-G0[2])*normal,(vertex0-vertex2)) + np.cross((G2[2]-G0[2])*normal,(vertex1-vertex0))\n",
    "    c = c/n2\n",
    "    c0.append(c[0]); c1.append(c[1]); c2.append(c[2]);\n",
    "    #print(edges[0],edges[1],edges[2])  \n",
    "    #print(vertex0,vertex1,vertex2,normal,n2)\n",
    "    #print(a,b,c)\n",
    "outDf = pd.DataFrame({'a0': a0, 'a1': a1, 'a2': a2, 'b0': b0, 'b1': b1, 'b2': b2, 'c0': c0, 'c1': c1, 'c2': c2})\n",
    "outDf.to_excel(\"co-efficients.xlsx\") #, startrow=1)\n",
    "outDf.head()"
   ]
  },
  {
   "cell_type": "code",
   "execution_count": null,
   "id": "ed3af1ce-0e5f-4175-97db-51aa34eedc12",
   "metadata": {},
   "outputs": [],
   "source": [
    "# ----------------------------------------------------------------------------\n",
    "# Plot the triangulation, the potential iso-contours and the vector field\n",
    "# ----------------------------------------------------------------------------\n",
    "fig, ax = plt.subplots()\n",
    "ax.set_aspect('equal')\n",
    "# Enforce the margins, and enlarge them to give room for the vectors.\n",
    "ax.use_sticky_edges = False\n",
    "ax.margins(0.07)\n",
    "\n",
    "ax.triplot(triang, color='0.8')\n",
    "\n",
    "levels = np.arange(0., 1., 0.01)\n",
    "ax.tricontour(tri_refi, z_test_refi, levels=levels, cmap='hot',\n",
    "              linewidths=[2.0, 1.0, 1.0, 1.0])\n",
    "# Plots direction of the electrical vector field\n",
    "ax.quiver(triang.x, triang.y, Ex/E_norm, Ey/E_norm,\n",
    "          units='xy', scale=10., zorder=3, color='blue',\n",
    "          width=0.007, headwidth=3., headlength=4.)\n",
    "\n",
    "ax.set_title('Gradient plot: an electrical dipole')\n",
    "plt.show()"
   ]
  },
  {
   "cell_type": "code",
   "execution_count": null,
   "id": "6dbc83bc-1d46-459a-80c4-f72a153cea1d",
   "metadata": {},
   "outputs": [],
   "source": [
    "#https://vtkusers.public.kitware.narkive.com/J6TNTBbW/delaunay-surface-triangulation-in-3d\n",
    "#vtkDelaunay2D: ignoring the Z-coordinate during its triangulation) \n",
    "#vtkDelaunay3D: a tetrahedral mesh\n",
    "#vtkGeometryFilter will extract surface cells from a volumetric mesh.\n",
    "'''\n",
    "vtkDelaunay3D* delny = vtkDelaunay3D::New();\n",
    "delny->SetInput(pPolyData);\n",
    "delny->SetTolerance(0.001);\n",
    "delny->Update();\n",
    "vtkGeometryFilter* geom = vtkGeometryFilter::New();\n",
    "geom->SetInput( delny->GetOutput() );\n",
    "geom->Update();\n",
    "'''"
   ]
  },
  {
   "cell_type": "code",
   "execution_count": null,
   "id": "6aada7fd-2ec7-43dd-a15c-c38e8e72f293",
   "metadata": {},
   "outputs": [],
   "source": [
    "#!pip install openpyxl\n",
    "import numpy as np\n",
    "import pandas as pd\n",
    "from scipy.spatial import Delaunay\n",
    "import matplotlib.pyplot as plt\n",
    "from matplotlib import cm\n",
    "from mpl_toolkits.mplot3d import Axes3D\n",
    "#ax = plt.axes(projection=\"3d\")"
   ]
  },
  {
   "cell_type": "code",
   "execution_count": null,
   "id": "c3e0f0cd-a5f4-4263-a994-b4ae523427f7",
   "metadata": {},
   "outputs": [],
   "source": [
    "def triangulateFunctionGraph(ax, XYZ, cmap=cm.magma):\n",
    "    tri = Delaunay(XYZ[:,:2]) # triangulate projections\n",
    "    ax.plot_trisurf(\n",
    "        XYZ[:,0], XYZ[:,1], XYZ[:,2], triangles=tri.simplices, cmap=cmap)\n",
    "    \n",
    "def readFace(file):\n",
    "    with open(file, 'r') as vertices:\n",
    "        return np.array([\n",
    "            [float(v) for v in line.split()] for line in vertices])"
   ]
  },
  {
   "cell_type": "code",
   "execution_count": null,
   "id": "7dcea18a-6581-410f-9a04-bd258a1a063f",
   "metadata": {},
   "outputs": [],
   "source": [
    "xyz = readFace('face.vert')\n",
    "xyz.shape; xyz[1:5,:]\n",
    "ax = plt.axes(projection=\"3d\")\n",
    "triangulateFunctionGraph(ax, xyz)\n",
    "plt.show()"
   ]
  },
  {
   "cell_type": "code",
   "execution_count": null,
   "id": "78898651-bbcf-42bb-b9a7-7ff3491092a5",
   "metadata": {},
   "outputs": [],
   "source": [
    "# take n x 3 array of points of the form (x, y, f(x,y))\n",
    "def generatePointsOnSphere(k):\n",
    "#Parameterization: (cos(u) sin(v), sin(u) sin(v), cos(v)) \n",
    "#where u goes from 0 to 2π and v goes from 0 to π.\n",
    "    # domain parametrization\n",
    "    U = np.linspace(0, 2 * np.pi, k)\n",
    "    V = np.linspace(0, np.pi, k)\n",
    "    [X, Y] = np.meshgrid(U, V)\n",
    "\n",
    "    # sphere parametrization\n",
    "    S1 = np.cos(X) * np.sin(Y)\n",
    "    S2 = np.sin(X) * np.sin(Y)\n",
    "    S3 = np.cos(Y)\n",
    "    \n",
    "    # triangulate the points in [0,2pi] x [0,pi]\n",
    "    tri = Delaunay(np.array([X.flatten(), Y.flatten()]).T)\n",
    "    #return S1, S2, S3 \n",
    "    return np.column_stack((S1.flatten(), S2.flatten(), S3.flatten()))\n",
    "\n",
    "def generatePointsOnEllipsoid(A, k):\n",
    "    # domain parametrization\n",
    "    U = np.linspace(0, 2 * np.pi, k)\n",
    "    V = np.linspace(0, np.pi, k)\n",
    "    [X, Y] = np.meshgrid(U, V)\n",
    "\n",
    "    # sphere parametrization\n",
    "    S1 = np.cos(X) * np.sin(Y)\n",
    "    S2 = np.sin(X) * np.sin(Y)\n",
    "    S3 = np.cos(Y)\n",
    "\n",
    "    # map sphere to elipsoid\n",
    "    E1 = np.zeros((k,k))\n",
    "    E2 = np.zeros((k,k))\n",
    "    E3 = np.zeros((k,k))\n",
    "    for i in range(k):\n",
    "        for j in range(k):\n",
    "            xyz = np.array([S1[i,j], S2[i,j], S3[i,j]])\n",
    "            [E1[i,j], E2[i,j], E3[i,j]] = A @ xyz\n",
    "            \n",
    "    return np.column_stack((E1.flatten(), E2.flatten(), E3.flatten()))\n",
    "\n",
    "def generatePointsOnTorus(k=200, a=2, b=9):\n",
    "    # domain parametrization\n",
    "    U = np.linspace(0, 2 * np.pi, k)\n",
    "    V = np.linspace(0, 2 * np.pi, k)\n",
    "    [X, Y] = np.meshgrid(U, V)\n",
    "\n",
    "    # Torus parametrization\n",
    "    T1 = (b + a*np.cos(U)) * np.cos(V)\n",
    "    T2 = (b + a*np.cos(U)) * np.sin(V)\n",
    "    T3 = a * np.sin(U)\n",
    "\n",
    "    ''' torus = lambda a, b: (\n",
    "    lambda x, y: (a * cos(y) + b) * cos(x),\n",
    "    lambda x, y: (a * cos(y) + b) * sin(x),\n",
    "    lambda x, y: a * sin(y)\n",
    "    )'''\n",
    "    return np.column_stack((T1.flatten(), T2.flatten(), T3.flatten()))"
   ]
  },
  {
   "cell_type": "code",
   "execution_count": null,
   "id": "bdd365cb-010e-4be9-b86d-2bdb28527ca5",
   "metadata": {},
   "outputs": [],
   "source": [
    "def generatePointsOnBagel(k=200, a=2, b=9):\n",
    "    # domain parametrization\n",
    "    U = np.linspace(0, 2 * np.pi, k)\n",
    "    V = np.linspace(0, 2 * np.pi, k)\n",
    "    [X, Y] = np.meshgrid(U, V)\n",
    "\n",
    "    # Torus parametrization\n",
    "    T1 = (b + a*np.cos(U)) * np.cos(V)\n",
    "    T2 = (b + a*np.cos(U)) * np.sin(V)\n",
    "    T3 = a * np.sin(U)\n",
    "\n",
    "    ''' kleinBagel = lambda r: (\n",
    "    lambda x, y: (r + cos(x/2) * sin(y) - sin(x/2) * sin(2*y)) * cos(x),\n",
    "    lambda x, y: (r + cos(x/2) * sin(y) - sin(x/2) * sin(2*y)) * sin(x),\n",
    "    lambda x, y: sin(x/2) * sin(y) + cos(x/2) * sin(2*y)\n",
    "    )'''\n",
    "    return np.column_stack((T1.flatten(), T2.flatten(), T3.flatten()))"
   ]
  },
  {
   "cell_type": "code",
   "execution_count": null,
   "id": "178c2ca6-8ae9-44ba-8a54-7fd022c8248c",
   "metadata": {},
   "outputs": [],
   "source": [
    "k = 200\n",
    "xyz = generatePointsOnTorus(k, 2, 9)\n",
    "#len(torus)\n",
    "ax = plt.axes(projection=\"3d\")\n",
    "triangulateFunctionGraph(ax, xyz)\n",
    "plt.show()"
   ]
  },
  {
   "cell_type": "code",
   "execution_count": null,
   "id": "1ca357c5-b6a4-48d6-b2fa-524fc7316631",
   "metadata": {},
   "outputs": [],
   "source": []
  },
  {
   "cell_type": "code",
   "execution_count": null,
   "id": "780ab235-ece9-4620-a93e-0e3c3fcef195",
   "metadata": {},
   "outputs": [],
   "source": [
    "k = 50\n",
    "#xyz = generatePointsOnSphere(k)\n",
    "\n",
    "A = np.array([\n",
    "    [-0.01289453, -0.02087514,  0.04109751],\n",
    "    [-0.00261222, -0.01984956, -0.15409974],\n",
    "    [-0.00431062,  0.07447336, -0.0295528 ]\n",
    "])\n",
    "xyz = generatePointsOnEllipsoid(A, k)\n",
    "ax = plt.axes(projection=\"3d\")\n",
    "triangulateFunctionGraph(ax, xyz)\n",
    "plt.show()"
   ]
  },
  {
   "cell_type": "code",
   "execution_count": null,
   "id": "18c70573-42f7-4580-8511-24e0268d96d4",
   "metadata": {},
   "outputs": [],
   "source": [
    "#Triangulating two other surfaces\n",
    "# (x, y) in [0,2pi] x [0,2pi]\n",
    "torus = lambda a, b: (\n",
    "    lambda x, y: (a * cos(y) + b) * cos(x),\n",
    "    lambda x, y: (a * cos(y) + b) * sin(x),\n",
    "    lambda x, y: a * sin(y)\n",
    ")\n",
    "# (x, y) in [0,2pi] x [0,2pi]\n",
    "kleinBagel = lambda r: (\n",
    "    lambda x, y: (r + cos(x/2) * sin(y) - sin(x/2) * sin(2*y)) * cos(x),\n",
    "    lambda x, y: (r + cos(x/2) * sin(y) - sin(x/2) * sin(2*y)) * sin(x),\n",
    "    lambda x, y: sin(x/2) * sin(y) + cos(x/2) * sin(2*y)\n",
    ")"
   ]
  },
  {
   "cell_type": "code",
   "execution_count": null,
   "id": "3a1c9ed9-44df-44c7-8a4a-dd235f15dbef",
   "metadata": {},
   "outputs": [],
   "source": [
    "w27_31vertices = pd.read_excel(w27_31verticesFile, header=None, engine='openpyxl') #.replace('/','\\\\') \n",
    "w31_27vertices = pd.read_excel(w31_27verticesFile, header=None, engine='openpyxl')\n",
    "w27_31triangles = pd.read_csv(w27_31trianglesFile, sep=',', header=None)"
   ]
  },
  {
   "cell_type": "code",
   "execution_count": null,
   "id": "9affd7e2-57fc-4d49-9276-f3965b508cd6",
   "metadata": {},
   "outputs": [],
   "source": [
    "print(len(w27_31vertices.index),len(w31_27vertices.index),len(w27_31triangles.index))\n",
    "print(w27_31vertices.shape, w31_27vertices.shape, w27_31triangles.shape)\n",
    "#w27_31vertices.head(), w31_27vertices.head(), w27_31triangles.head()"
   ]
  },
  {
   "cell_type": "code",
   "execution_count": null,
   "id": "5e3b50ac-2fa0-4f02-873e-e464d81538d5",
   "metadata": {},
   "outputs": [],
   "source": [
    "#compute growth vectors\n",
    "growthVector = w31_27vertices - w27_31vertices\n",
    "#len(w27_31vertices.index)\n",
    "#w27_31vertices.head(), w31_27vertices.head(), growthVector.head()"
   ]
  },
  {
   "cell_type": "code",
   "execution_count": null,
   "id": "ac9ec5cc-672a-48d1-ac75-2fab37d95c30",
   "metadata": {},
   "outputs": [],
   "source": [
    "import numpy as np\n",
    "from scipy.spatial import Delaunay\n",
    "import matplotlib.pyplot as plt\n",
    "from matplotlib import cm\n",
    "from mpl_toolkits.mplot3d import Axes3D\n",
    "\n",
    "ax = plt.figure().gca(projection='3d')"
   ]
  },
  {
   "cell_type": "code",
   "execution_count": null,
   "id": "8b575299-5e4d-4271-a4bb-04d2ebd9020d",
   "metadata": {},
   "outputs": [],
   "source": [
    "import numpy as np\n",
    "from collections import deque\n",
    "import time\n",
    "d = [[[2, 1, 3], [3, 1, 2], [1, 2, -2]], \n",
    "     [[3, 1, 2], [1, 2, 3], [1, -2, 2]], \n",
    "     [[1, 2, 3], [2, 1, 3], [3, 1, 2]], \n",
    "     [[1, 2, 3], [2, 1, 3], [2, 2, 1]],\n",
    "     [[1, 2, 3], [2, 2, 1], [4, 1, 0]],\n",
    "     [[2, 1, 3], [2, 2, 1], [-4, 1, 0]],\n",
    "     [[3, 1, 3], [2, 2, 1], [-4, 1, 0]]]\n",
    "def bfs(d, start):\n",
    "  queue = deque([d[start]])\n",
    "  seen = [start]\n",
    "  results = []\n",
    "  while queue:\n",
    "    _vertices = queue.popleft()\n",
    "    current = [[i, a] for i, a in enumerate(d) if len([x for x in a if x in _vertices])==2 and i not in seen]\n",
    "    if len(current)>0:\n",
    "        current_array = np.array(current, dtype=object)\n",
    "        current0 = list(current_array[:, 0])\n",
    "        current1 = list(current_array[:, 1])\n",
    "        results.extend(current0)\n",
    "        queue.extend(current1)\n",
    "        seen.extend(current0)\n",
    "  return results"
   ]
  },
  {
   "cell_type": "code",
   "execution_count": null,
   "id": "a7771b8f-c361-413d-9171-35e2f02603ae",
   "metadata": {},
   "outputs": [],
   "source": [
    "time1 = time.time()\n",
    "xo = bfs(d, 2)\n",
    "print(time.time()-time1)\n",
    "print(bfs(d, 2))"
   ]
  },
  {
   "cell_type": "code",
   "execution_count": null,
   "id": "da06f793-c9ba-4884-b4c4-642c2052eaee",
   "metadata": {},
   "outputs": [],
   "source": [
    "#https://stackoverflow.com/questions/50537967/finding-nearest-neighbours-of-a-triangular-tesellation\n",
    "import numpy as np\n",
    "from scipy import spatial\n",
    "import networkx\n",
    "\n",
    "vertices = np.array([[[2.0, 1.0, 3.0],[3.0, 1.0, 2.0],[1.2, 2.5, -2.0]],\n",
    "                     [[3.0, 1.0, 2.0],[1.0, 2.0, 3.0],[1.2, -2.5, -2.0]],\n",
    "                     [[1.0, 2.0, 3.0],[2.0, 1.0, 3.0],[3.0, 1.0, 2.0]],\n",
    "                     [[1.0, 2.0, 3.0],[2.0, 1.0, 3.0],[2.2, 2.0, 1.0]],\n",
    "                     [[1.0, 2.0, 3.0],[2.2, 2.0, 1.0],[4.0, 1.0, 0.0]],\n",
    "                     [[2.0, 1.0, 3.0],[2.2, 2.0, 1.0],[-4.0, 1.0, 0.0]]])\n",
    "\n",
    "\n",
    "vertices1 = np.array([[[2, 1, 3], [3, 1, 2], [1, 2, -2]], \n",
    "                      [[3, 1, 2], [1, 2, 3], [1, -2, 2]], \n",
    "                      [[1, 2, 3], [2, 1, 3], [3, 1, 2]], \n",
    "                      [[1, 2, 3], [2, 1, 3], [2, 2, 1]],\n",
    "                      [[1, 2, 3], [2, 2, 1], [4, 1, 0]], \n",
    "                      [[2, 1, 3], [2, 2, 1], [-4, 1, 0]],\n",
    "                      [[3, 1, 3], [2, 2, 1], [-4, 1, 0]],\n",
    "                      [[8, 1, 2], [1, 2, 3], [1, -2, 2]]])\n",
    "\n",
    "def make(N=3000):\n",
    "    \"\"\"create a N random points and triangulate\"\"\"\n",
    "    points= np.random.uniform(-10, 10, (N, 3))\n",
    "    tri = spatial.Delaunay(points[:, :2])\n",
    "    return points[tri.simplices]\n",
    "\n",
    "def bfs_tree(triangles, root=0, return_short=True):\n",
    "    \"\"\"convert triangle list to graph with vertices = triangles,\n",
    "    edges = pairs of triangles with shared edge and compute bfs tree\n",
    "    rooted at triangle number root\"\"\"\n",
    "    # use the old view as void trick to merge triplets, so they can\n",
    "    # for example be easily compared\n",
    "    tr_as_v = triangles.view(f'V{3*triangles.dtype.itemsize}').reshape(\n",
    "        triangles.shape[:-1])\n",
    "    # for each triangle write out its edges, this involves doubling the\n",
    "    # data becaues each vertex occurs twice\n",
    "    tr2 = np.concatenate([tr_as_v, tr_as_v], axis=1).reshape(-1, 3, 2)\n",
    "    # sort vertices within edges ...\n",
    "    tr2.sort(axis=2)\n",
    "    # ... and glue them together\n",
    "    tr2 = tr2.view(f'V{6*triangles.dtype.itemsize}').reshape(\n",
    "        triangles.shape[:-1])\n",
    "    # to find shared edges, sort them ...\n",
    "    idx = tr2.ravel().argsort()\n",
    "    tr2s = tr2.ravel()[idx]\n",
    "    # ... and then compare consecutive ones\n",
    "    pairs, = np.where(tr2s[:-1] == tr2s[1:])\n",
    "    assert np.all(np.diff(pairs) >= 2)\n",
    "    # these are the edges of the graph, the vertices are implicitly \n",
    "    # named 0, 1, 2, ...\n",
    "    edges = np.concatenate([idx[pairs,None]//3, idx[pairs+1,None]//3], axis=1)\n",
    "    # construct graph ...\n",
    "    G = networkx.Graph(edges.tolist())\n",
    "    # ... and let networkx do its magic\n",
    "    res = networkx.bfs_tree(G, root)\n",
    "    if return_short:\n",
    "        # sort by distance from root and then by actual path\n",
    "        sp = networkx.single_source_shortest_path(res, root)\n",
    "        sp = [sp[i] for i in range(len(sp))]\n",
    "        sp = [(len(p), p) for p in sp]\n",
    "        res = sorted(range(len(res.nodes)), key=sp.__getitem__)\n",
    "   return res    "
   ]
  },
  {
   "cell_type": "code",
   "execution_count": null,
   "id": "da4cab56-8ebb-47c4-a73c-376d87bbfc75",
   "metadata": {},
   "outputs": [],
   "source": [
    "from collections import deque\n",
    "d = [[[2.0, 1.0, 3.0], [3.0, 1.0, 2.0], [1.2, 2.5, -2.0]], [[3.0, 1.0, 2.0], [1.0, 2.0, 3.0], [1.2, -2.5, -2.0]], [[1.0, 2.0, 3.0], [2.0, 1.0, 3.0], [3.0, 1.0, 2.0]], [[1.0, 2.0, 3.0], [2.0, 1.0, 3.0], [2.2, 2.0, 1.0]], [[1.0, 2.0, 3.0], [2.2, 2.0, 1.0], [4.0, 1.0, 0.0]], [[2.0, 1.0, 3.0], [2.2, 2.0, 1.0], [-4.0, 1.0, 0.0]]]\n",
    "def bfs(d, start):\n",
    "  queue = deque([d[start]])\n",
    "  seen = [start]\n",
    "  results = []\n",
    "  while queue:\n",
    "    _vertices = queue.popleft()\n",
    "    exists_at = [i for i, a in enumerate(d) if a == _vertices][0]\n",
    "    current = [i for i, a in enumerate(d) if any(c in a for c in _vertices) and i != exists_at and i not in seen]\n",
    "    results.extend(current)\n",
    "    queue.extend([a for i, a in enumerate(d) if any(c in a for c in _vertices) and i != exists_at and i not in seen])\n",
    "    seen.extend(current)\n",
    "  return results\n",
    "\n",
    "print(bfs(d, 2))"
   ]
  },
  {
   "cell_type": "code",
   "execution_count": null,
   "id": "0437465f-d4dd-428d-b121-2e7a9b9981f6",
   "metadata": {},
   "outputs": [],
   "source": [
    "import pandas as pd\n",
    "\n",
    "df1 = pd.DataFrame({'Data': ['a', 'b', 'c', 'd']})    \n",
    "df2 = pd.DataFrame({'Data': [1, 2, 3, 4]})  \n",
    "df3 = pd.DataFrame({'Data': [1.1, 1.2, 1.3, 1.4]})\n",
    "\n",
    "\n",
    "with pd.ExcelWriter('multiple.xlsx', engine='openpyxl') as writer:\n",
    "    df1.to_excel(writer, sheet_name='Sheeta')\n",
    "    df2.to_excel(writer, sheet_name='Sheetb')\n",
    "    df3.to_excel(writer, sheet_name='Sheetc')"
   ]
  },
  {
   "cell_type": "code",
   "execution_count": null,
   "id": "b97c5126-e7b6-4272-9e70-13f7a6b5d624",
   "metadata": {},
   "outputs": [],
   "source": [
    "writer = pd.ExcelWriter('final.xlsx')\n",
    "data.to_excel(writer,'original')\n",
    "\n",
    "# data.fillna() or similar.\n",
    "\n",
    "data.to_excel(writer,'result')\n",
    "writer.close()"
   ]
  },
  {
   "cell_type": "code",
   "execution_count": null,
   "id": "e027ca39-c278-4e06-95c8-51555483f131",
   "metadata": {},
   "outputs": [],
   "source": []
  }
 ],
 "metadata": {
  "kernelspec": {
   "display_name": "Python 3 (ipykernel)",
   "language": "python",
   "name": "python3"
  },
  "language_info": {
   "codemirror_mode": {
    "name": "ipython",
    "version": 3
   },
   "file_extension": ".py",
   "mimetype": "text/x-python",
   "name": "python",
   "nbconvert_exporter": "python",
   "pygments_lexer": "ipython3",
   "version": "3.8.18"
  }
 },
 "nbformat": 4,
 "nbformat_minor": 5
}
