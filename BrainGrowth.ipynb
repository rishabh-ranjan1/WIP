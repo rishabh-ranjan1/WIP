{
 "cells": [
  {
   "cell_type": "code",
   "execution_count": null,
   "id": "eb2c6a44-6b1c-4b54-87e1-51cfccc0b124",
   "metadata": {},
   "outputs": [],
   "source": [
    "# Install nibabel library, if not done yet (for reading gii files)\n",
    "#!pip install nibabel\n",
    "# Install openpyxl, if not done yet (for saving Excel file)\n",
    "#!pip install openpyxl"
   ]
  },
  {
   "cell_type": "code",
   "execution_count": 1,
   "id": "e4398abd-2726-4e99-904e-7793c93e8950",
   "metadata": {
    "scrolled": true
   },
   "outputs": [],
   "source": [
    "import numpy as np\n",
    "import pandas as pd\n",
    "import nibabel as nb\n",
    "import os"
   ]
  },
  {
   "cell_type": "code",
   "execution_count": 2,
   "id": "7a2c7291-e996-4342-940c-6eee058d39fb",
   "metadata": {},
   "outputs": [],
   "source": [
    "#Data location\n",
    "#noninjured.L.ab\n",
    "baseFolder  = 'C:\\\\RaghusWork\\\\Data\\\\GarciaPNAS2018_example\\\\noninjured.L.ab'\n",
    "youngerFile = 'YAS.LLR.surf.gii'\n",
    "olderRegFile = 'configincaltrelaxforward.anat.LLR.reg.surf.gii'"
   ]
  },
  {
   "cell_type": "code",
   "execution_count": 3,
   "id": "d213f68c-5e59-46e1-b222-ac46bf8fa00a",
   "metadata": {},
   "outputs": [],
   "source": [
    "#Read data\n",
    "img = nb.load(os.path.join(baseFolder, youngerFile))\n",
    "younger_coords = img.agg_data('NIFTI_INTENT_POINTSET')\n",
    "younger_triangles = img.agg_data('NIFTI_INTENT_TRIANGLE')"
   ]
  },
  {
   "cell_type": "code",
   "execution_count": null,
   "id": "2ffc0b54-b9af-4979-bac7-b035bf342b39",
   "metadata": {},
   "outputs": [],
   "source": [
    "img = nb.load(os.path.join(baseFolder, olderRegFile))\n",
    "olderReg_coords = img.agg_data('NIFTI_INTENT_POINTSET')\n",
    "olderReg_triangles = img.agg_data('NIFTI_INTENT_TRIANGLE')\n",
    "print(np.array_equal(younger_triangles, olderReg_triangles))\n",
    "print(np.array_equal(younger_coords,olderReg_coords))"
   ]
  },
  {
   "cell_type": "code",
   "execution_count": null,
   "id": "75b1ec28-ef14-45c9-af16-45e4d37a449e",
   "metadata": {},
   "outputs": [],
   "source": [
    "#compute growth vectors\n",
    "growthVector = olderReg_coords - younger_coords"
   ]
  },
  {
   "cell_type": "code",
   "execution_count": null,
   "id": "61ce0bef-e157-4722-8138-7fdc6eb9883b",
   "metadata": {},
   "outputs": [],
   "source": [
    "#Converting to pandas dataframe\n",
    "younger_coords = pd.DataFrame(younger_coords)\n",
    "olderReg_coords = pd.DataFrame(olderReg_coords)\n",
    "younger_triangles = pd.DataFrame( younger_triangles)\n",
    "growthVector = pd.DataFrame( growthVector)"
   ]
  },
  {
   "cell_type": "code",
   "execution_count": null,
   "id": "0f181513-1d0e-4146-9661-387d5bed1232",
   "metadata": {},
   "outputs": [],
   "source": [
    "# Co-efficient computation\n",
    "a0 = []; a1 = []; a2 = [];\n",
    "b0 = []; b1 = []; b2 = [];\n",
    "c0 = []; c1 = []; c2 = [];\n",
    "for index, edges in younger_triangles.iterrows():\n",
    "    #if (index>2):\n",
    "    #    break\n",
    "    vertex0 = younger_coords.iloc[edges[0]].to_numpy()\n",
    "    vertex1 = younger_coords.iloc[edges[1]].to_numpy()\n",
    "    vertex2 = younger_coords.iloc[edges[2]].to_numpy()\n",
    "    normal = np.cross(vertex1-vertex0, vertex2-vertex0)\n",
    "    G0 = growthVector.iloc[edges[0]].to_numpy()\n",
    "    G1 = growthVector.iloc[edges[1]].to_numpy()\n",
    "    G2 = growthVector.iloc[edges[2]].to_numpy()\n",
    "    n2 = np.dot(normal,normal)\n",
    "    a = np.cross((G1[0]-G0[0])*normal,(vertex0-vertex2)) + np.cross((G2[0]-G0[0])*normal,(vertex1-vertex0))\n",
    "    a = a/n2\n",
    "    a0.append(a[0]); a1.append(a[1]); a2.append(a[2]);\n",
    "    b = np.cross((G1[1]-G0[1])*normal,(vertex0-vertex2)) + np.cross((G2[1]-G0[1])*normal,(vertex1-vertex0))\n",
    "    b = b/n2\n",
    "    b0.append(b[0]); b1.append(b[1]); b2.append(b[2]);\n",
    "    c = np.cross((G1[2]-G0[2])*normal,(vertex0-vertex2)) + np.cross((G2[2]-G0[2])*normal,(vertex1-vertex0))\n",
    "    c = c/n2\n",
    "    c0.append(c[0]); c1.append(c[1]); c2.append(c[2]);\n",
    "    #print(edges[0],edges[1],edges[2])  \n",
    "    #print(vertex0,vertex1,vertex2,normal,n2)\n",
    "    #print(a,b,c)"
   ]
  },
  {
   "cell_type": "code",
   "execution_count": null,
   "id": "75b5501e-cdc2-41c1-9c2c-0149761fae3c",
   "metadata": {},
   "outputs": [],
   "source": [
    "#Saving results to Excel file\n",
    "with pd.ExcelWriter('noninjured_L_ab.xlsx', engine='openpyxl') as writer:\n",
    "    younger_coords.to_excel(writer, sheet_name='Week27Toward31-vertices')\n",
    "    olderReg_coords.to_excel(writer, sheet_name='Week31For27-vertices')\n",
    "    younger_triangles.to_excel(writer, sheet_name='Week27Toward31-triangles')\n",
    "    outDf = pd.DataFrame({'a0': a0, 'a1': a1, 'a2': a2, 'b0': b0, 'b1': b1, 'b2': b2, 'c0': c0, 'c1': c1, 'c2': c2})\n",
    "    outDf.to_excel(writer, sheet_name='co-efficients') "
   ]
  },
  {
   "cell_type": "code",
   "execution_count": null,
   "id": "58c9a2b5-41da-4e4a-8371-145b2c095e94",
   "metadata": {},
   "outputs": [],
   "source": [
    "#Display of growth vectors\n",
    "import matplotlib.pyplot as plt\n",
    "fig = plt.figure()\n",
    "ax = plt.axes(projection=\"3d\")\n",
    "stride = 50\n",
    "x = younger_coords[::stride,0]\n",
    "y = younger_coords[::stride,1]\n",
    "z = younger_coords[::stride,2]\n",
    "u = growthVector[::stride,0]\n",
    "v = growthVector[::stride,1]\n",
    "w = growthVector[::stride,2]\n",
    "ax.quiver(x, y, z, u, v, w, length=2., arrow_length_ratio = 2, zorder=3, color='black', normalize= True) #, width=0.007, headwidth=3., headlength=4.) \n",
    "plt.show()"
   ]
  },
  {
   "cell_type": "code",
   "execution_count": null,
   "id": "f59183be-1d7c-4721-8db7-0a9bb94c0def",
   "metadata": {},
   "outputs": [],
   "source": [
    "#ORIENTABILITY code"
   ]
  },
  {
   "cell_type": "code",
   "execution_count": 4,
   "id": "a71b9308-fa2c-4431-827e-7dbe0a75e18a",
   "metadata": {},
   "outputs": [],
   "source": [
    "def check_orientability(vertices, triangles):\n",
    "    def get_edges(tri):\n",
    "        return [(tri[i], tri[(i+1)%3]) for i in range(3)]\n",
    "\n",
    "    def reverse_edge(edge):\n",
    "        return (edge[1], edge[0])\n",
    "\n",
    "    def edge_orientation(tri, edge):\n",
    "        edge_idx = tri.index(edge[0])\n",
    "        next_idx = (edge_idx + 1) % 3\n",
    "        return tri[next_idx] == edge[1]\n",
    "\n",
    "    edges_dict = {}\n",
    "    for idx, tri in enumerate(triangles):\n",
    "        for edge in get_edges(tri):\n",
    "            if edge not in edges_dict:\n",
    "                edges_dict[edge] = [tri]\n",
    "            else:\n",
    "                edges_dict[edge].append(tri)\n",
    "\n",
    "    for edge, triangles in edges_dict.items():\n",
    "        if len(triangles) == 2:\n",
    "            tri1, tri2 = triangles\n",
    "            ori_tri1 = edge_orientation(tri1, edge)\n",
    "            ori_tri2 = edge_orientation(tri2, edge)\n",
    "            if ori_tri1 == ori_tri2:\n",
    "                return False\n",
    "\n",
    "    return True"
   ]
  },
  {
   "cell_type": "code",
   "execution_count": 5,
   "id": "261ea310-140b-4459-8e56-a30bfd30e679",
   "metadata": {},
   "outputs": [
    {
     "name": "stdout",
     "output_type": "stream",
     "text": [
      "False\n",
      "True\n",
      "True\n"
     ]
    }
   ],
   "source": [
    "# Example usage\n",
    "vertices = [(0, 0, 0), (1, 0, 0), (0, 1, 0), (1, 1, 0)]\n",
    "triangles = [(0, 1, 2), (1, 2, 3)]\n",
    "print(check_orientability(vertices, triangles))  # Output: False\n",
    "triangles = [(0, 1, 2), (1, 3, 2)]\n",
    "print(check_orientability(vertices, triangles))  # Output: True\n",
    "print(check_orientability(younger_coords, younger_triangles))"
   ]
  },
  {
   "cell_type": "code",
   "execution_count": null,
   "id": "3dc2456a-d7f5-4f94-8407-8234c16f5dbb",
   "metadata": {},
   "outputs": [],
   "source": []
  }
 ],
 "metadata": {
  "kernelspec": {
   "display_name": "Python 3 (ipykernel)",
   "language": "python",
   "name": "python3"
  },
  "language_info": {
   "codemirror_mode": {
    "name": "ipython",
    "version": 3
   },
   "file_extension": ".py",
   "mimetype": "text/x-python",
   "name": "python",
   "nbconvert_exporter": "python",
   "pygments_lexer": "ipython3",
   "version": "3.8.18"
  }
 },
 "nbformat": 4,
 "nbformat_minor": 5
}
