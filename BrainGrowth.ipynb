{
 "cells": [
  {
   "cell_type": "code",
   "execution_count": null,
   "id": "eb2c6a44-6b1c-4b54-87e1-51cfccc0b124",
   "metadata": {},
   "outputs": [],
   "source": [
    "# Install nibabel library, if not done yet (for reading gii files)\n",
    "!pip install nibabel\n",
    "# Install openpyxl, if not done yet (for saving Excel file)\n",
    "!pip install openpyxl"
   ]
  },
  {
   "cell_type": "code",
   "execution_count": 1,
   "id": "e4398abd-2726-4e99-904e-7793c93e8950",
   "metadata": {
    "scrolled": true
   },
   "outputs": [],
   "source": [
    "import numpy as np\n",
    "import pandas as pd\n",
    "import nibabel as nb\n",
    "import os"
   ]
  },
  {
   "cell_type": "code",
   "execution_count": 2,
   "id": "7a2c7291-e996-4342-940c-6eee058d39fb",
   "metadata": {},
   "outputs": [],
   "source": [
    "#Data location\n",
    "#noninjured.L.ab\n",
    "baseFolder  = 'C:\\\\RaghusWork\\\\Data\\\\GarciaPNAS2018_example\\\\noninjured.L.ab'\n",
    "youngerFile = 'YAS.LLR.surf.gii'\n",
    "olderRegFile = 'configincaltrelaxforward.anat.LLR.reg.surf.gii'"
   ]
  },
  {
   "cell_type": "code",
   "execution_count": 3,
   "id": "d213f68c-5e59-46e1-b222-ac46bf8fa00a",
   "metadata": {},
   "outputs": [],
   "source": [
    "#Read data\n",
    "img = nb.load(os.path.join(baseFolder, youngerFile))\n",
    "younger_coords = img.agg_data('NIFTI_INTENT_POINTSET')\n",
    "younger_triangles = img.agg_data('NIFTI_INTENT_TRIANGLE')"
   ]
  },
  {
   "cell_type": "code",
   "execution_count": null,
   "id": "2ffc0b54-b9af-4979-bac7-b035bf342b39",
   "metadata": {},
   "outputs": [],
   "source": [
    "img = nb.load(os.path.join(baseFolder, olderRegFile))\n",
    "olderReg_coords = img.agg_data('NIFTI_INTENT_POINTSET')\n",
    "olderReg_triangles = img.agg_data('NIFTI_INTENT_TRIANGLE')\n",
    "print(np.array_equal(younger_triangles, olderReg_triangles))\n",
    "print(np.array_equal(younger_coords,olderReg_coords))"
   ]
  },
  {
   "cell_type": "code",
   "execution_count": null,
   "id": "75b1ec28-ef14-45c9-af16-45e4d37a449e",
   "metadata": {},
   "outputs": [],
   "source": [
    "#compute growth vectors\n",
    "growthVector = olderReg_coords - younger_coords"
   ]
  },
  {
   "cell_type": "code",
   "execution_count": null,
   "id": "61ce0bef-e157-4722-8138-7fdc6eb9883b",
   "metadata": {},
   "outputs": [],
   "source": [
    "#Converting to pandas dataframe\n",
    "younger_coords = pd.DataFrame(younger_coords)\n",
    "olderReg_coords = pd.DataFrame(olderReg_coords)\n",
    "younger_triangles = pd.DataFrame( younger_triangles)\n",
    "growthVector = pd.DataFrame( growthVector)"
   ]
  },
  {
   "cell_type": "code",
   "execution_count": null,
   "id": "0f181513-1d0e-4146-9661-387d5bed1232",
   "metadata": {},
   "outputs": [],
   "source": [
    "# Co-efficient computation\n",
    "a0 = []; a1 = []; a2 = [];\n",
    "b0 = []; b1 = []; b2 = [];\n",
    "c0 = []; c1 = []; c2 = [];\n",
    "for index, edges in younger_triangles.iterrows():\n",
    "    #if (index>2):\n",
    "    #    break\n",
    "    vertex0 = younger_coords.iloc[edges[0]].to_numpy()\n",
    "    vertex1 = younger_coords.iloc[edges[1]].to_numpy()\n",
    "    vertex2 = younger_coords.iloc[edges[2]].to_numpy()\n",
    "    normal = np.cross(vertex1-vertex0, vertex2-vertex0)\n",
    "    G0 = growthVector.iloc[edges[0]].to_numpy()\n",
    "    G1 = growthVector.iloc[edges[1]].to_numpy()\n",
    "    G2 = growthVector.iloc[edges[2]].to_numpy()\n",
    "    n2 = np.dot(normal,normal)\n",
    "    a = np.cross((G1[0]-G0[0])*normal,(vertex0-vertex2)) + np.cross((G2[0]-G0[0])*normal,(vertex1-vertex0))\n",
    "    a = a/n2\n",
    "    a0.append(a[0]); a1.append(a[1]); a2.append(a[2]);\n",
    "    b = np.cross((G1[1]-G0[1])*normal,(vertex0-vertex2)) + np.cross((G2[1]-G0[1])*normal,(vertex1-vertex0))\n",
    "    b = b/n2\n",
    "    b0.append(b[0]); b1.append(b[1]); b2.append(b[2]);\n",
    "    c = np.cross((G1[2]-G0[2])*normal,(vertex0-vertex2)) + np.cross((G2[2]-G0[2])*normal,(vertex1-vertex0))\n",
    "    c = c/n2\n",
    "    c0.append(c[0]); c1.append(c[1]); c2.append(c[2]);\n",
    "    #print(edges[0],edges[1],edges[2])  \n",
    "    #print(vertex0,vertex1,vertex2,normal,n2)\n",
    "    #print(a,b,c)"
   ]
  },
  {
   "cell_type": "code",
   "execution_count": null,
   "id": "75b5501e-cdc2-41c1-9c2c-0149761fae3c",
   "metadata": {},
   "outputs": [],
   "source": [
    "#Saving results to Excel file\n",
    "with pd.ExcelWriter('noninjured_L_ab.xlsx', engine='openpyxl') as writer:\n",
    "    younger_coords.to_excel(writer, sheet_name='Week27Toward31-vertices')\n",
    "    olderReg_coords.to_excel(writer, sheet_name='Week31For27-vertices')\n",
    "    younger_triangles.to_excel(writer, sheet_name='Week27Toward31-triangles')\n",
    "    outDf = pd.DataFrame({'a0': a0, 'a1': a1, 'a2': a2, 'b0': b0, 'b1': b1, 'b2': b2, 'c0': c0, 'c1': c1, 'c2': c2})\n",
    "    outDf.to_excel(writer, sheet_name='co-efficients') "
   ]
  },
  {
   "cell_type": "code",
   "execution_count": null,
   "id": "58c9a2b5-41da-4e4a-8371-145b2c095e94",
   "metadata": {},
   "outputs": [],
   "source": [
    "#Display of growth vectors\n",
    "import matplotlib.pyplot as plt\n",
    "fig = plt.figure()\n",
    "ax = plt.axes(projection=\"3d\")\n",
    "stride = 50\n",
    "x = younger_coords[::stride,0]\n",
    "y = younger_coords[::stride,1]\n",
    "z = younger_coords[::stride,2]\n",
    "u = growthVector[::stride,0]\n",
    "v = growthVector[::stride,1]\n",
    "w = growthVector[::stride,2]\n",
    "ax.quiver(x, y, z, u, v, w, length=2., arrow_length_ratio = 2, zorder=3, color='black', normalize= True) #, width=0.007, headwidth=3., headlength=4.) \n",
    "plt.show()"
   ]
  },
  {
   "cell_type": "code",
   "execution_count": null,
   "id": "f59183be-1d7c-4721-8db7-0a9bb94c0def",
   "metadata": {},
   "outputs": [],
   "source": [
    " "
   ]
  },
  {
   "cell_type": "code",
   "execution_count": 14,
   "id": "17850a00-6592-4527-97bb-fa63f96c5d72",
   "metadata": {},
   "outputs": [
    {
     "name": "stdout",
     "output_type": "stream",
     "text": [
      "True\n"
     ]
    }
   ],
   "source": [
    "import numpy as np\n",
    "from collections import defaultdict\n",
    "\n",
    "def check_orientation(vertices, triangles):\n",
    "    def calculate_normal(v0, v1, v2):\n",
    "        edge1 = v1 - v0\n",
    "        edge2 = v2 - v0\n",
    "        return np.cross(edge1, edge2)\n",
    "\n",
    "    # Create a mapping from each vertex to the list of triangles that share that vertex\n",
    "    vertex_to_triangles = defaultdict(list)\n",
    "    for i, triangle_indices in enumerate(triangles):\n",
    "        for vertex_index in triangle_indices:\n",
    "            vertex_to_triangles[vertex_index].append(i)\n",
    "\n",
    "    is_correctly_oriented = True\n",
    "\n",
    "    for i, triangle_indices in enumerate(triangles):\n",
    "        v0, v1, v2 = vertices[triangle_indices]\n",
    "        triangle_normal = calculate_normal(v0, v1, v2)\n",
    "\n",
    "        # Check orientation of the triangle with its neighbors\n",
    "        neighbor_indices = set()\n",
    "        for vertex_index in triangle_indices:\n",
    "            neighbor_indices.update(vertex_to_triangles[vertex_index])\n",
    "        neighbor_indices.remove(i)  # Remove current triangle from neighbors\n",
    "        for neighbor_index in neighbor_indices:\n",
    "            neighbor_v0, neighbor_v1, neighbor_v2 = vertices[triangles[neighbor_index]]\n",
    "            neighbor_normal = calculate_normal(neighbor_v0, neighbor_v1, neighbor_v2)\n",
    "            if np.dot(triangle_normal, neighbor_normal) < 0:\n",
    "                is_correctly_oriented = False\n",
    "                break\n",
    "\n",
    "    return is_correctly_oriented\n",
    "\n",
    "# Example usage\n",
    "vertices = np.array([[0, 0, 0], [1, 0, 0], [0, 1, 0], [1, 1, 0]])\n",
    "triangles = np.array([[0, 1, 2], [1, 3, 2]])\n",
    "\n",
    "result = check_orientation(vertices, triangles) #True\n",
    "print(result)\n"
   ]
  },
  {
   "cell_type": "code",
   "execution_count": 15,
   "id": "261ea310-140b-4459-8e56-a30bfd30e679",
   "metadata": {},
   "outputs": [
    {
     "name": "stdout",
     "output_type": "stream",
     "text": [
      "False\n"
     ]
    }
   ],
   "source": [
    "# Example usage\n",
    "vertices = np.array([[0, 0, 0], [1, 0, 0], [0, 1, 0], [1, 1, 0]])\n",
    "triangles = np.array([[0, 1, 2], [1, 3, 2], [0, 2, 3]])\n",
    "\n",
    "result = check_orientation(vertices, triangles)\n",
    "print(result)"
   ]
  },
  {
   "cell_type": "code",
   "execution_count": 9,
   "id": "71a291d4-52e1-4013-bb70-e08d035d2c30",
   "metadata": {},
   "outputs": [
    {
     "name": "stdout",
     "output_type": "stream",
     "text": [
      "True\n"
     ]
    }
   ],
   "source": [
    "import numpy as np\n",
    "\n",
    "def is_orientable(vertices, triangles):\n",
    "    # Create a dictionary to store edge orientations\n",
    "    edge_orientations = {}\n",
    "\n",
    "    # Iterate over each triangle in the mesh\n",
    "    for triangle in triangles:\n",
    "        for i in range(3):\n",
    "            # Get the indices of the current edge vertices\n",
    "            v0_idx = triangle[i]\n",
    "            v1_idx = triangle[(i + 1) % 3]\n",
    "\n",
    "            # Compute the edge direction\n",
    "            edge_direction = vertices[v1_idx] - vertices[v0_idx]\n",
    "\n",
    "            # Normalize the edge direction\n",
    "            edge_length = np.linalg.norm(edge_direction)\n",
    "            edge_direction = edge_direction/float(edge_length) if edge_length != 0 else 1\n",
    "\n",
    "            # Check if the edge is already in the dictionary\n",
    "            if (v0_idx, v1_idx) in edge_orientations:\n",
    "                # Check if the orientations are opposite\n",
    "                if np.dot(edge_orientations[(v0_idx, v1_idx)], edge_direction) > 0:\n",
    "                    return False\n",
    "            else:\n",
    "                # Add the edge to the dictionary\n",
    "                edge_orientations[(v0_idx, v1_idx)] = edge_direction\n",
    "\n",
    "    return True\n",
    "\n",
    "# Example usage\n",
    "vertices = [\n",
    "    np.array([0, 0, 0]),\n",
    "    np.array([1, 0, 0]),\n",
    "    np.array([0, 1, 0]),\n",
    "    np.array([0, 0, 1])\n",
    "]\n",
    "\n",
    "triangles = [\n",
    "    [0, 1, 2],  # Triangle 1\n",
    "    [0, 2, 3],  # Triangle 2\n",
    "    [0, 3, 1]   # Triangle 3\n",
    "]\n",
    "\n",
    "print(is_orientable(vertices, triangles))  # Output: True"
   ]
  },
  {
   "cell_type": "code",
   "execution_count": 11,
   "id": "79dbf255-00dd-42c1-9c40-10dad3d3bd3f",
   "metadata": {},
   "outputs": [],
   "source": [
    "import numpy as np\n",
    "\n",
    "def check_orientability(vertices, triangles):\n",
    "    \"\"\"\n",
    "    Check if all triangles on a surface mesh are correctly oriented by testing if\n",
    "    common edges between triangles have opposite directions.\n",
    "\n",
    "    Parameters:\n",
    "    - vertices (numpy array): Array of vertices in the mesh.\n",
    "    - triangles (numpy array): Array of triangles in the mesh, where each row\n",
    "      represents a triangle by referencing the indices of its three vertices.\n",
    "\n",
    "    Returns:\n",
    "    - orientable (bool): True if all triangles are correctly oriented, False otherwise.\n",
    "    \"\"\"\n",
    "\n",
    "    def edge_direction(v1, v2):\n",
    "        \"\"\"\n",
    "        Calculate the direction of an edge defined by two vertices.\n",
    "        \"\"\"\n",
    "        return (v2 - v1) / np.linalg.norm(v2 - v1)\n",
    "\n",
    "    orientable = True\n",
    "\n",
    "    # Create a dictionary to store the indices of triangles sharing an edge\n",
    "    edge_map = {}\n",
    "    for i, triangle in enumerate(triangles):\n",
    "        for j in range(3):\n",
    "            edge = tuple(sorted([triangle[j], triangle[(j + 1) % 3]]))\n",
    "            if edge not in edge_map:\n",
    "                edge_map[edge] = []\n",
    "            edge_map[edge].append(i)\n",
    "\n",
    "    # Check if common edges between triangles have opposite directions\n",
    "    for edge, triangles in edge_map.items():\n",
    "        if len(triangles) == 2:\n",
    "            triangle1, triangle2 = triangles\n",
    "            v1, v2 = vertices[edge[0]], vertices[edge[1]]\n",
    "            edge_direction1 = edge_direction(v1, v2)\n",
    "\n",
    "            if not triangle1 or not triangle2:\n",
    "                continue\n",
    "\n",
    "            v1 = vertices[triangle1[(np.where(triangle1 == edge[0])[0][0] + 1) % 3]]\n",
    "            v2 = vertices[triangle1[np.where(triangle1 == edge[0])[0][0]]]\n",
    "            edge_direction2 = edge_direction(v1, v2)\n",
    "\n",
    "            if np.dot(edge_direction1, edge_direction2) > 0:\n",
    "                orientable = False\n",
    "                break\n",
    "\n",
    "            v1 = vertices[triangle2[np.where(triangle2 == edge[0])[0][0]]]\n",
    "            v2 = vertices[triangle2[(np.where(triangle2 == edge[0])[0][0] + 1) % 3]]\n",
    "            edge_direction2 = edge_direction(v1, v2)\n",
    "\n",
    "            if np.dot(edge_direction1, edge_direction2) > 0:\n",
    "                orientable = False\n",
    "                break\n",
    "\n",
    "    return orientable"
   ]
  },
  {
   "cell_type": "code",
   "execution_count": 12,
   "id": "75f35771-ae22-4478-b729-1ed633fdb047",
   "metadata": {},
   "outputs": [
    {
     "ename": "IndexError",
     "evalue": "index 0 is out of bounds for axis 0 with size 0",
     "output_type": "error",
     "traceback": [
      "\u001b[1;31m---------------------------------------------------------------------------\u001b[0m",
      "\u001b[1;31mIndexError\u001b[0m                                Traceback (most recent call last)",
      "Cell \u001b[1;32mIn[12], line 1\u001b[0m\n\u001b[1;32m----> 1\u001b[0m result \u001b[38;5;241m=\u001b[39m \u001b[43mcheck_orientability\u001b[49m\u001b[43m(\u001b[49m\u001b[43myounger_coords\u001b[49m\u001b[43m,\u001b[49m\u001b[43m \u001b[49m\u001b[43myounger_triangles\u001b[49m\u001b[43m)\u001b[49m\n\u001b[0;32m      2\u001b[0m \u001b[38;5;66;03m#result = is_orientable(younger_coords, younger_triangles)\u001b[39;00m\n\u001b[0;32m      3\u001b[0m \u001b[38;5;28mprint\u001b[39m(result)\n",
      "Cell \u001b[1;32mIn[11], line 44\u001b[0m, in \u001b[0;36mcheck_orientability\u001b[1;34m(vertices, triangles)\u001b[0m\n\u001b[0;32m     41\u001b[0m \u001b[38;5;28;01mif\u001b[39;00m \u001b[38;5;129;01mnot\u001b[39;00m triangle1 \u001b[38;5;129;01mor\u001b[39;00m \u001b[38;5;129;01mnot\u001b[39;00m triangle2:\n\u001b[0;32m     42\u001b[0m     \u001b[38;5;28;01mcontinue\u001b[39;00m\n\u001b[1;32m---> 44\u001b[0m v1 \u001b[38;5;241m=\u001b[39m vertices[triangle1[(\u001b[43mnp\u001b[49m\u001b[38;5;241;43m.\u001b[39;49m\u001b[43mwhere\u001b[49m\u001b[43m(\u001b[49m\u001b[43mtriangle1\u001b[49m\u001b[43m \u001b[49m\u001b[38;5;241;43m==\u001b[39;49m\u001b[43m \u001b[49m\u001b[43medge\u001b[49m\u001b[43m[\u001b[49m\u001b[38;5;241;43m0\u001b[39;49m\u001b[43m]\u001b[49m\u001b[43m)\u001b[49m\u001b[43m[\u001b[49m\u001b[38;5;241;43m0\u001b[39;49m\u001b[43m]\u001b[49m\u001b[43m[\u001b[49m\u001b[38;5;241;43m0\u001b[39;49m\u001b[43m]\u001b[49m \u001b[38;5;241m+\u001b[39m \u001b[38;5;241m1\u001b[39m) \u001b[38;5;241m%\u001b[39m \u001b[38;5;241m3\u001b[39m]]\n\u001b[0;32m     45\u001b[0m v2 \u001b[38;5;241m=\u001b[39m vertices[triangle1[np\u001b[38;5;241m.\u001b[39mwhere(triangle1 \u001b[38;5;241m==\u001b[39m edge[\u001b[38;5;241m0\u001b[39m])[\u001b[38;5;241m0\u001b[39m][\u001b[38;5;241m0\u001b[39m]]]\n\u001b[0;32m     46\u001b[0m edge_direction2 \u001b[38;5;241m=\u001b[39m edge_direction(v1, v2)\n",
      "\u001b[1;31mIndexError\u001b[0m: index 0 is out of bounds for axis 0 with size 0"
     ]
    }
   ],
   "source": [
    "result = check_orientability(younger_coords, younger_triangles)\n",
    "#result = is_orientable(younger_coords, younger_triangles)\n",
    "print(result)"
   ]
  },
  {
   "cell_type": "code",
   "execution_count": null,
   "id": "9ac1b4fd-de12-43a8-8b96-23cd91417ab4",
   "metadata": {},
   "outputs": [],
   "source": []
  }
 ],
 "metadata": {
  "kernelspec": {
   "display_name": "Python 3 (ipykernel)",
   "language": "python",
   "name": "python3"
  },
  "language_info": {
   "codemirror_mode": {
    "name": "ipython",
    "version": 3
   },
   "file_extension": ".py",
   "mimetype": "text/x-python",
   "name": "python",
   "nbconvert_exporter": "python",
   "pygments_lexer": "ipython3",
   "version": "3.8.18"
  }
 },
 "nbformat": 4,
 "nbformat_minor": 5
}
