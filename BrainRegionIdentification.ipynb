{
 "cells": [
  {
   "cell_type": "code",
   "execution_count": null,
   "id": "9cd8646d-86b4-46f5-ba4f-a8d68160398c",
   "metadata": {},
   "outputs": [],
   "source": [
    "#!pip install opencv-python\n",
    "#!pip install antspynet\n",
    "#!pip install tensorflow"
   ]
  },
  {
   "cell_type": "code",
   "execution_count": 1,
   "id": "612c0ec6-e1ba-45c8-bdd5-2136f0a40ed2",
   "metadata": {},
   "outputs": [
    {
     "name": "stdout",
     "output_type": "stream",
     "text": [
      "SimpleITK version = 2.3.1\n",
      "AntsPy version = 0.4.2\n"
     ]
    }
   ],
   "source": [
    "import os\n",
    "import SimpleITK as sitk\n",
    "import ants\n",
    "import myUtilities \n",
    "print(f'SimpleITK version = {sitk.__version__}')\n",
    "print(f'AntsPy version = {ants.__version__}')"
   ]
  },
  {
   "cell_type": "code",
   "execution_count": 2,
   "id": "61933ee2-4ce6-44a0-837f-c0480ecc9b66",
   "metadata": {},
   "outputs": [],
   "source": [
    "#dataFname = \"C:\\\\Data\\\\BrainMR\\\\brain-lesion_T1w.nii.gz\"\n",
    "dataFname = \"C:\\\\Data\\\\PKG - Pretreat-MetsToBrain-Masks\\\\Pretreat-MetsToBrain-Masks\\\\BraTS-MET-00086-000\\BraTS-MET-00086-000-t1c.nii.gz\"\n",
    "dataFname = 'C:\\\\Data\\\\BrainMR\\\\brain-lesion_T1w.nii.gz'\n",
    "img = ants.image_read(dataFname) #, pixeltype='float') #reorient='IAL')"
   ]
  },
  {
   "cell_type": "code",
   "execution_count": null,
   "id": "4c231093-edb9-4752-8aa2-f882aed5d219",
   "metadata": {},
   "outputs": [],
   "source": [
    "print(img)"
   ]
  },
  {
   "cell_type": "code",
   "execution_count": null,
   "id": "8303dd22-3174-4ccb-b3e2-953f8c4acdf5",
   "metadata": {},
   "outputs": [],
   "source": [
    "img_array = img.numpy()\n",
    "new_img = ants.from_numpy(img_array, spacing=img.spacing, origin=img.origin, direction=img.direction)"
   ]
  },
  {
   "cell_type": "code",
   "execution_count": null,
   "id": "294905b5-c1b2-4089-97d7-707526d8d7af",
   "metadata": {},
   "outputs": [],
   "source": [
    "print(img.spacing)\n",
    "print(f'shape = {img.numpy().shape} -> (Z, X, Y)')\n",
    "#print(img.type())"
   ]
  },
  {
   "cell_type": "code",
   "execution_count": null,
   "id": "4f78a9b6-3de5-4b2a-9d16-a1a94e4bd9f7",
   "metadata": {
    "scrolled": true
   },
   "outputs": [],
   "source": [
    "#filin = ants.resample_image(img,spacing,False,1)\n",
    "size = (75,120,120)\n",
    "img2 = img.resample_image((60,60,40), use_voxels=True) #, interp_type='linear')\n",
    "#resampled = ants.resample_image_to_target(fi2mm, fi, verbose=True)"
   ]
  },
  {
   "cell_type": "code",
   "execution_count": null,
   "id": "2dbb86fb-194d-450c-bb78-284bb7cb15da",
   "metadata": {},
   "outputs": [],
   "source": [
    "print(img2)"
   ]
  },
  {
   "cell_type": "code",
   "execution_count": null,
   "id": "0fa4f1f2-aa6e-420d-9c59-b38ec1b7209e",
   "metadata": {},
   "outputs": [],
   "source": [
    "ants.image_write(img2,'temp.nii.gz') "
   ]
  },
  {
   "cell_type": "code",
   "execution_count": 3,
   "id": "d4561d85-1163-4bb8-b9c5-15d32d412173",
   "metadata": {},
   "outputs": [],
   "source": [
    "from antspynet.utilities import brain_extraction"
   ]
  },
  {
   "cell_type": "code",
   "execution_count": null,
   "id": "d06b5180-77dd-46ee-b88a-5d85b5e445b2",
   "metadata": {},
   "outputs": [
    {
     "name": "stdout",
     "output_type": "stream",
     "text": [
      "Brain extraction:  retrieving model weights.\n",
      "Brain extraction:  retrieving template.\n",
      "Brain extraction:  normalizing image to the template.\n",
      "Brain extraction:  prediction and decoding.\n"
     ]
    }
   ],
   "source": [
    "brain_mask = brain_extraction(img, modality='t1', verbose=True)"
   ]
  },
  {
   "cell_type": "code",
   "execution_count": null,
   "id": "1a9d214e-9f93-46f4-b0bb-cdc2e206fa98",
   "metadata": {},
   "outputs": [],
   "source": []
  },
  {
   "cell_type": "code",
   "execution_count": null,
   "id": "caa6f96e-78fd-4a49-a48b-5536f4b29092",
   "metadata": {},
   "outputs": [],
   "source": []
  }
 ],
 "metadata": {
  "kernelspec": {
   "display_name": "Python 3 (ipykernel)",
   "language": "python",
   "name": "python3"
  },
  "language_info": {
   "codemirror_mode": {
    "name": "ipython",
    "version": 3
   },
   "file_extension": ".py",
   "mimetype": "text/x-python",
   "name": "python",
   "nbconvert_exporter": "python",
   "pygments_lexer": "ipython3",
   "version": "3.8.18"
  }
 },
 "nbformat": 4,
 "nbformat_minor": 5
}
