{
 "cells": [
  {
   "cell_type": "code",
   "execution_count": null,
   "id": "9cd8646d-86b4-46f5-ba4f-a8d68160398c",
   "metadata": {},
   "outputs": [],
   "source": [
    "#!pip install opencv-python\n",
    "#!pip install antspynet\n",
    "#!pip install tensorflow"
   ]
  },
  {
   "cell_type": "code",
   "execution_count": 1,
   "id": "612c0ec6-e1ba-45c8-bdd5-2136f0a40ed2",
   "metadata": {},
   "outputs": [
    {
     "name": "stdout",
     "output_type": "stream",
     "text": [
      "SimpleITK version = 2.3.1\n",
      "AntsPy version = 0.4.2\n"
     ]
    }
   ],
   "source": [
    "import os\n",
    "import SimpleITK as sitk\n",
    "import ants\n",
    "import myUtilities \n",
    "print(f'SimpleITK version = {sitk.__version__}')\n",
    "print(f'AntsPy version = {ants.__version__}')"
   ]
  },
  {
   "cell_type": "code",
   "execution_count": 2,
   "id": "61933ee2-4ce6-44a0-837f-c0480ecc9b66",
   "metadata": {},
   "outputs": [],
   "source": [
    "#dataFname = \"C:\\\\Data\\\\BrainMR\\\\brain-lesion_T1w.nii.gz\"\n",
    "dataFname = \"C:\\\\Data\\\\PKG - Pretreat-MetsToBrain-Masks\\\\Pretreat-MetsToBrain-Masks\\\\BraTS-MET-00086-000\\BraTS-MET-00086-000-t1c.nii.gz\"\n",
    "img = ants.image_read(dataFname, reorient='IAL')\n",
    "#myUtilities.explore_3D_array(arr=img.numpy(), cmap='nipy_spectral')"
   ]
  },
  {
   "cell_type": "code",
   "execution_count": 8,
   "id": "294905b5-c1b2-4089-97d7-707526d8d7af",
   "metadata": {},
   "outputs": [
    {
     "name": "stdout",
     "output_type": "stream",
     "text": [
      "(1.0, 1.0, 1.0)\n"
     ]
    }
   ],
   "source": [
    "print(img.spacing)"
   ]
  },
  {
   "cell_type": "code",
   "execution_count": 13,
   "id": "4f78a9b6-3de5-4b2a-9d16-a1a94e4bd9f7",
   "metadata": {
    "scrolled": true
   },
   "outputs": [
    {
     "ename": "ValueError",
     "evalue": "invalid stoi argument",
     "output_type": "error",
     "traceback": [
      "\u001b[1;31m---------------------------------------------------------------------------\u001b[0m",
      "\u001b[1;31mValueError\u001b[0m                                Traceback (most recent call last)",
      "Cell \u001b[1;32mIn[13], line 3\u001b[0m\n\u001b[0;32m      1\u001b[0m \u001b[38;5;66;03m#filin = ants.resample_image(img,spacing,False,1)\u001b[39;00m\n\u001b[0;32m      2\u001b[0m spacing \u001b[38;5;241m=\u001b[39m (\u001b[38;5;241m2\u001b[39m,\u001b[38;5;241m2\u001b[39m,\u001b[38;5;241m2\u001b[39m)\n\u001b[1;32m----> 3\u001b[0m img2 \u001b[38;5;241m=\u001b[39m \u001b[43mants\u001b[49m\u001b[38;5;241;43m.\u001b[39;49m\u001b[43mresample_image\u001b[49m\u001b[43m(\u001b[49m\u001b[43mimg\u001b[49m\u001b[43m,\u001b[49m\u001b[43m \u001b[49m\u001b[43mspacing\u001b[49m\u001b[43m,\u001b[49m\u001b[43m \u001b[49m\u001b[43muse_voxels\u001b[49m\u001b[38;5;241;43m=\u001b[39;49m\u001b[38;5;241;43m0\u001b[39;49m\u001b[43m,\u001b[49m\u001b[43m \u001b[49m\u001b[43minterp_type\u001b[49m\u001b[38;5;241;43m=\u001b[39;49m\u001b[38;5;124;43m'\u001b[39;49m\u001b[38;5;124;43mlinear\u001b[39;49m\u001b[38;5;124;43m'\u001b[39;49m\u001b[43m)\u001b[49m\n\u001b[0;32m      4\u001b[0m \u001b[38;5;66;03m#resampled = ants.resample_image_to_target(fi2mm, fi, verbose=True)\u001b[39;00m\n",
      "File \u001b[1;32mC:\\Tools\\miniforge3\\envs\\Testbase\\lib\\site-packages\\ants\\registration\\resample_image.py:52\u001b[0m, in \u001b[0;36mresample_image\u001b[1;34m(image, resample_params, use_voxels, interp_type)\u001b[0m\n\u001b[0;32m     50\u001b[0m processed_args \u001b[38;5;241m=\u001b[39m utils\u001b[38;5;241m.\u001b[39m_int_antsProcessArguments(args)\n\u001b[0;32m     51\u001b[0m libfn \u001b[38;5;241m=\u001b[39m utils\u001b[38;5;241m.\u001b[39mget_lib_fn(\u001b[38;5;124m'\u001b[39m\u001b[38;5;124mResampleImage\u001b[39m\u001b[38;5;124m'\u001b[39m)\n\u001b[1;32m---> 52\u001b[0m \u001b[43mlibfn\u001b[49m\u001b[43m(\u001b[49m\u001b[43mprocessed_args\u001b[49m\u001b[43m)\u001b[49m\n\u001b[0;32m     53\u001b[0m outimage \u001b[38;5;241m=\u001b[39m outimage\u001b[38;5;241m.\u001b[39mclone(image\u001b[38;5;241m.\u001b[39mpixeltype)\n\u001b[0;32m     54\u001b[0m \u001b[38;5;28;01mreturn\u001b[39;00m outimage\n",
      "\u001b[1;31mValueError\u001b[0m: invalid stoi argument"
     ]
    }
   ],
   "source": [
    "#filin = ants.resample_image(img,spacing,False,1)\n",
    "spacing = (2,2,2)\n",
    "img2 = ants.resample_image(img, spacing, use_voxels=0, interp_type='linear')\n",
    "#resampled = ants.resample_image_to_target(fi2mm, fi, verbose=True)"
   ]
  },
  {
   "cell_type": "code",
   "execution_count": null,
   "id": "d4561d85-1163-4bb8-b9c5-15d32d412173",
   "metadata": {},
   "outputs": [],
   "source": [
    "from antspynet.utilities import brain_extraction"
   ]
  },
  {
   "cell_type": "code",
   "execution_count": null,
   "id": "d06b5180-77dd-46ee-b88a-5d85b5e445b2",
   "metadata": {},
   "outputs": [],
   "source": [
    "brain_mask = brain_extraction(img, modality='t1', verbose=True)"
   ]
  },
  {
   "cell_type": "code",
   "execution_count": null,
   "id": "1a9d214e-9f93-46f4-b0bb-cdc2e206fa98",
   "metadata": {},
   "outputs": [],
   "source": []
  },
  {
   "cell_type": "code",
   "execution_count": null,
   "id": "caa6f96e-78fd-4a49-a48b-5536f4b29092",
   "metadata": {},
   "outputs": [],
   "source": []
  }
 ],
 "metadata": {
  "kernelspec": {
   "display_name": "Python 3 (ipykernel)",
   "language": "python",
   "name": "python3"
  },
  "language_info": {
   "codemirror_mode": {
    "name": "ipython",
    "version": 3
   },
   "file_extension": ".py",
   "mimetype": "text/x-python",
   "name": "python",
   "nbconvert_exporter": "python",
   "pygments_lexer": "ipython3",
   "version": "3.8.18"
  }
 },
 "nbformat": 4,
 "nbformat_minor": 5
}
